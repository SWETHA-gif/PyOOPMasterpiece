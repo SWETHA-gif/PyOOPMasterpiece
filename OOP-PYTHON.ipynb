{
 "cells": [
  {
   "cell_type": "markdown",
   "id": "d947a374",
   "metadata": {},
   "source": [
    "## OOP\n",
    "\n"
   ]
  },
  {
   "cell_type": "code",
   "execution_count": null,
   "id": "c40dafe4",
   "metadata": {},
   "outputs": [],
   "source": [
    "# https://docs.python.org/3/tutorial/classes.html"
   ]
  },
  {
   "cell_type": "code",
   "execution_count": null,
   "id": "4f59b831",
   "metadata": {},
   "outputs": [],
   "source": [
    "''' \n",
    "In Object-Oriented Programming (OOP) with Python, an attribute is a characteristic or property of an object. \n",
    "Objects in Python are instances of classes, and classes define attributes to represent the data associated \n",
    "with those objects.  '''"
   ]
  },
  {
   "cell_type": "code",
   "execution_count": 1,
   "id": "7f605739",
   "metadata": {},
   "outputs": [
    {
     "name": "stdout",
     "output_type": "stream",
     "text": [
      "Buddy is 3 years old.\n",
      "Charlie is 5 years old.\n",
      "Buddy says Woof!\n",
      "Charlie says Woof!\n"
     ]
    }
   ],
   "source": [
    "# Define a Class:\n",
    "class Dog:      # dog ---> class\n",
    "    def __init__(self, name, age):   # name,age ---> attribute\n",
    "        self.name = name\n",
    "        self.age = age\n",
    "\n",
    "    def bark(self):  # bark ---> method\n",
    "        print(f\"{self.name} says Woof!\")\n",
    "# Create instances of the Dog class\n",
    "dog1 = Dog(\"Buddy\", 3)    # dog1,dog2 ---> object\n",
    "dog2 = Dog(\"Charlie\", 5)\n",
    "\n",
    "# Access attributes\n",
    "print(f\"{dog1.name} is {dog1.age} years old.\")\n",
    "print(f\"{dog2.name} is {dog2.age} years old.\")\n",
    "\n",
    "# Call methods\n",
    "dog1.bark()\n",
    "dog2.bark()\n"
   ]
  },
  {
   "cell_type": "code",
   "execution_count": 1,
   "id": "d3d1bf83",
   "metadata": {},
   "outputs": [
    {
     "name": "stdout",
     "output_type": "stream",
     "text": [
      "Toyota\n"
     ]
    }
   ],
   "source": [
    "class Car:\n",
    "    def __init__(self, make, model):\n",
    "        self.make = make  # Instance attribute\n",
    "        self.model = model  # Instance attribute\n",
    "\n",
    "my_car = Car(\"Toyota\", \"Camry\")\n",
    "print(my_car.make)  # Accessing the instance attribute\n"
   ]
  },
  {
   "cell_type": "code",
   "execution_count": 2,
   "id": "fc931bde",
   "metadata": {},
   "outputs": [
    {
     "name": "stdout",
     "output_type": "stream",
     "text": [
      "4\n"
     ]
    }
   ],
   "source": [
    "class Car:\n",
    "    wheels = 4  # Class attribute\n",
    "\n",
    "    def __init__(self, make, model):\n",
    "        self.make = make\n",
    "        self.model = model\n",
    "\n",
    "my_car = Car(\"Toyota\", \"Camry\")\n",
    "print(my_car.wheels)  # Accessing the class attribute\n"
   ]
  },
  {
   "cell_type": "code",
   "execution_count": 3,
   "id": "049d6d29",
   "metadata": {},
   "outputs": [
    {
     "name": "stdout",
     "output_type": "stream",
     "text": [
      "<class '__main__.Item'>\n",
      "<class 'str'>\n",
      "<class 'int'>\n",
      "<class 'int'>\n"
     ]
    }
   ],
   "source": [
    "class Item:\n",
    "    pass\n",
    "item1 = Item()\n",
    "item1.name = \"phone\"\n",
    "item1.price = 765498\n",
    "item1.quantity = 10\n",
    "\n",
    "print(type(item1))\n",
    "print(type(item1.name))\n",
    "print(type(item1.price))\n",
    "print(type(item1.quantity))"
   ]
  },
  {
   "cell_type": "code",
   "execution_count": null,
   "id": "3c79ccff",
   "metadata": {},
   "outputs": [],
   "source": [
    "''' noramlly we can create a definition function in python ,\n",
    "now in classes in oop python if the def function is created \n",
    "inside the classes then it is called as methods '''"
   ]
  },
  {
   "cell_type": "code",
   "execution_count": null,
   "id": "adfb369b",
   "metadata": {},
   "outputs": [],
   "source": [
    "# def swee(self)\n",
    "''' python passes the object itself as a first argument,\n",
    "when you go ahead and call those methods'''"
   ]
  },
  {
   "cell_type": "code",
   "execution_count": 4,
   "id": "16f41734",
   "metadata": {},
   "outputs": [
    {
     "name": "stdout",
     "output_type": "stream",
     "text": [
      "<class '__main__.Item'>\n",
      "<class 'str'>\n",
      "<class 'int'>\n",
      "<class 'int'>\n",
      "7650\n",
      "<class '__main__.Item'>\n",
      "<class 'str'>\n",
      "<class 'int'>\n",
      "<class 'int'>\n",
      "888\n"
     ]
    }
   ],
   "source": [
    "class Item:\n",
    "    def calcu(self,x,y):\n",
    "        return x*y\n",
    "    \n",
    "item1 = Item()\n",
    "item1.name = \"phone\"\n",
    "item1.price = 765\n",
    "item1.quantity = 10\n",
    "\n",
    "print(type(item1))\n",
    "print(type(item1.name))\n",
    "print(type(item1.price))\n",
    "print(type(item1.quantity))\n",
    "print(item1.calcu(item1.price,item1.quantity)) #item1.calcu -- self , \n",
    "                                        #item1.price -- x\n",
    "                                        #item.quantity -- y\n",
    "\n",
    "item2 = Item()\n",
    "item2.name = \"laptop\"\n",
    "item2.price = 222\n",
    "item2.quantity = 4\n",
    "\n",
    "print(type(item2))\n",
    "print(type(item2.name))\n",
    "print(type(item2.price))\n",
    "print(type(item2.quantity))\n",
    "print(item1.calcu(item2.price,item2.quantity))"
   ]
  },
  {
   "cell_type": "code",
   "execution_count": 5,
   "id": "374b9cce",
   "metadata": {},
   "outputs": [
    {
     "name": "stdout",
     "output_type": "stream",
     "text": [
      "Name: John Doe\n",
      "Age: 30\n"
     ]
    }
   ],
   "source": [
    "''' Create a class Person with attributes name and age,\n",
    "and instantiate an object from it. '''\n",
    "\n",
    "class Person:\n",
    "    def __init__(self, name, age):\n",
    "        self.name = name\n",
    "        self.age = age\n",
    "\n",
    "# Instantiate an object of the Person class\n",
    "person1 = Person(\"John Doe\", 30)\n",
    "\n",
    "# Accessing attributes of the person1 object\n",
    "print(\"Name:\", person1.name)\n",
    "print(\"Age:\", person1.age)\n",
    "\n"
   ]
  },
  {
   "cell_type": "code",
   "execution_count": 7,
   "id": "a36acd55",
   "metadata": {},
   "outputs": [
    {
     "name": "stdout",
     "output_type": "stream",
     "text": [
      "Name: phone\n",
      "Price: 765\n",
      "Quantity: 10\n",
      "Result: 7650\n"
     ]
    }
   ],
   "source": [
    "class Item:\n",
    "    def __init__(self, name, price, quantity):\n",
    "        self.name = name\n",
    "        self.price = price\n",
    "        self.quantity = quantity\n",
    "\n",
    "    def calcu(self, x, y):\n",
    "        return x * y\n",
    "\n",
    "# Instantiate an object of the Item class\n",
    "item = Item(name=\"phone\", price=765, quantity=10)\n",
    "\n",
    "# Accessing attributes of the item object\n",
    "print(\"Name:\", item.name)\n",
    "print(\"Price:\", item.price)\n",
    "print(\"Quantity:\", item.quantity)\n",
    "\n",
    "# Using the calcu method\n",
    "result = item.calcu(item.price, item.quantity)\n",
    "print(\"Result:\", result)\n"
   ]
  },
  {
   "cell_type": "code",
   "execution_count": 8,
   "id": "492b73b8",
   "metadata": {},
   "outputs": [
    {
     "name": "stdout",
     "output_type": "stream",
     "text": [
      "Name: swetha\n",
      "Age: 20\n",
      "Gender: female\n",
      "Result: 100\n"
     ]
    }
   ],
   "source": [
    "class Sell:\n",
    "    def __init__(self, name, age, gender):\n",
    "        self.name = name\n",
    "        self.age = age\n",
    "        self.gender = gender\n",
    "\n",
    "    def calcu(self, x):\n",
    "        return self.age * x\n",
    "\n",
    "# Instantiate an object of the Sell class\n",
    "item = Sell(name=\"swetha\", age=20, gender=\"female\")\n",
    "\n",
    "# Accessing attributes of the item object\n",
    "print(\"Name:\", item.name)\n",
    "print(\"Age:\", item.age)\n",
    "print(\"Gender:\", item.gender)\n",
    "\n",
    "# Using the calcu method\n",
    "result = item.calcu(x=5)\n",
    "print(\"Result:\", result)\n"
   ]
  },
  {
   "cell_type": "code",
   "execution_count": null,
   "id": "3a203db7",
   "metadata": {},
   "outputs": [],
   "source": [
    "''' \n",
    "In Python, __init__ is a special method, also known\n",
    "as the constructor, used for initializing the attributes\n",
    "of an object when it is created. The __init__ method is\n",
    "automatically called when an object is instantiated from a class. '''"
   ]
  },
  {
   "cell_type": "code",
   "execution_count": 20,
   "id": "38fffaad",
   "metadata": {},
   "outputs": [
    {
     "name": "stdout",
     "output_type": "stream",
     "text": [
      "12345\n",
      "3123\n",
      "3452\n",
      "49380\n",
      "138268\n",
      "307152\n"
     ]
    }
   ],
   "source": [
    "class dep:\n",
    "    def __init__(self,cse,ece,mech):\n",
    "        self.cse = cse\n",
    "        self.ece = ece\n",
    "        self.mech = mech\n",
    "    def calcu(self,y):\n",
    "        return self.cse*y\n",
    "year1 = dep(cse = 12345 , ece = 1111 , mech = 1000)\n",
    "year2 = dep(cse = 34567 , ece = 3123 , mech = 2222)\n",
    "year3 = dep(cse = 76788 , ece = 4562 , mech = 3452)\n",
    "\n",
    "print(year1.cse)\n",
    "print(year2.ece)\n",
    "print(year3.mech)\n",
    "\n",
    "res1 = year1.calcu(4)\n",
    "res2 = year2.calcu(4)\n",
    "res3 = year3.calcu(4)\n",
    "\n",
    "print(res1)\n",
    "print(res2)\n",
    "print(res3)"
   ]
  },
  {
   "cell_type": "code",
   "execution_count": 27,
   "id": "6e7154fa",
   "metadata": {},
   "outputs": [
    {
     "ename": "AssertionError",
     "evalue": " 10 is not greater than or equal to 18",
     "output_type": "error",
     "traceback": [
      "\u001b[1;31m---------------------------------------------------------------------------\u001b[0m",
      "\u001b[1;31mAssertionError\u001b[0m                            Traceback (most recent call last)",
      "Cell \u001b[1;32mIn[27], line 11\u001b[0m\n\u001b[0;32m      9\u001b[0m \u001b[38;5;66;03m# Instantiate an object of the Person class\u001b[39;00m\n\u001b[0;32m     10\u001b[0m person1 \u001b[38;5;241m=\u001b[39m Person(\u001b[38;5;124m\"\u001b[39m\u001b[38;5;124mJohn Doe\u001b[39m\u001b[38;5;124m\"\u001b[39m, \u001b[38;5;241m30\u001b[39m)\n\u001b[1;32m---> 11\u001b[0m person2 \u001b[38;5;241m=\u001b[39m person(\u001b[38;5;124m\"\u001b[39m\u001b[38;5;124mjack\u001b[39m\u001b[38;5;124m\"\u001b[39m,\u001b[38;5;241m10\u001b[39m)\n\u001b[0;32m     13\u001b[0m \u001b[38;5;66;03m# Accessing attributes of the person1 object\u001b[39;00m\n\u001b[0;32m     14\u001b[0m \u001b[38;5;28mprint\u001b[39m(\u001b[38;5;124m\"\u001b[39m\u001b[38;5;124mName:\u001b[39m\u001b[38;5;124m\"\u001b[39m, person1\u001b[38;5;241m.\u001b[39mname)\n",
      "Cell \u001b[1;32mIn[27], line 4\u001b[0m, in \u001b[0;36mperson.__init__\u001b[1;34m(self, name, age)\u001b[0m\n\u001b[0;32m      2\u001b[0m \u001b[38;5;28;01mdef\u001b[39;00m \u001b[38;5;21m__init__\u001b[39m(\u001b[38;5;28mself\u001b[39m, name, age):\n\u001b[0;32m      3\u001b[0m     \u001b[38;5;66;03m# run validation to the received arguments\u001b[39;00m\n\u001b[1;32m----> 4\u001b[0m     \u001b[38;5;28;01massert\u001b[39;00m age\u001b[38;5;241m>\u001b[39m\u001b[38;5;241m=\u001b[39m\u001b[38;5;241m18\u001b[39m, \u001b[38;5;124mf\u001b[39m\u001b[38;5;124m\"\u001b[39m\u001b[38;5;124m \u001b[39m\u001b[38;5;132;01m{\u001b[39;00mage\u001b[38;5;132;01m}\u001b[39;00m\u001b[38;5;124m is not greater than or equal to 18\u001b[39m\u001b[38;5;124m\"\u001b[39m\n\u001b[0;32m      5\u001b[0m     \u001b[38;5;66;03m# should >18 or else it will show error\u001b[39;00m\n\u001b[0;32m      6\u001b[0m     \u001b[38;5;28mself\u001b[39m\u001b[38;5;241m.\u001b[39mname \u001b[38;5;241m=\u001b[39m name\n",
      "\u001b[1;31mAssertionError\u001b[0m:  10 is not greater than or equal to 18"
     ]
    }
   ],
   "source": [
    "\n",
    "class person:\n",
    "    def __init__(self, name, age):\n",
    "        # run validation to the received arguments\n",
    "        assert age>=18, f\" {age} is not greater than or equal to 18\"\n",
    "        # should >18 or else it will show error\n",
    "        self.name = name\n",
    "        self.age = age\n",
    "\n",
    "# Instantiate an object of the Person class\n",
    "person1 = Person(\"John Doe\", 30)\n",
    "person2 = person(\"jack\",10)\n",
    "\n",
    "# Accessing attributes of the person1 object\n",
    "print(\"Name:\", person1.name)\n",
    "print(\"Age:\", person1.age)\n",
    "print(\"nmae:\",person2.name)\n",
    "print(\"age:\",person2.age)\n"
   ]
  },
  {
   "cell_type": "code",
   "execution_count": 28,
   "id": "6ee2a89e",
   "metadata": {},
   "outputs": [
    {
     "name": "stdout",
     "output_type": "stream",
     "text": [
      "5678\n"
     ]
    }
   ],
   "source": [
    "class Person:\n",
    "    car = 5678\n",
    "    def __init__(self, name, age):\n",
    "        self.name = name\n",
    "        self.age = age\n",
    "\n",
    "# Instantiate an object of the Person class\n",
    "person1 = Person(\"John Doe\", 30)\n",
    "\n",
    "# Accessing attributes of the person1 object\n",
    "print(Person.car)"
   ]
  },
  {
   "cell_type": "code",
   "execution_count": 29,
   "id": "52e23f46",
   "metadata": {},
   "outputs": [
    {
     "name": "stdout",
     "output_type": "stream",
     "text": [
      "5678\n",
      "5678\n",
      "5678\n"
     ]
    }
   ],
   "source": [
    "class Person:\n",
    "    car = 5678\n",
    "    def __init__(self, name, age):\n",
    "        self.name = name\n",
    "        self.age = age\n",
    "\n",
    "# Instantiate an object of the Person class\n",
    "person1 = Person(\"John Doe\", 30)\n",
    "person2 = Person(\"Jack\" , 20)\n",
    "# Accessing attributes of the person1 object\n",
    "print(Person.car)\n",
    "print(person1.car)\n",
    "print(person2.car)\n",
    "\n"
   ]
  },
  {
   "cell_type": "code",
   "execution_count": 31,
   "id": "a929ef6a",
   "metadata": {},
   "outputs": [
    {
     "name": "stdout",
     "output_type": "stream",
     "text": [
      "{'__module__': '__main__', 'car': 5678, '__init__': <function Person.__init__ at 0x00000245D1896F20>, '__dict__': <attribute '__dict__' of 'Person' objects>, '__weakref__': <attribute '__weakref__' of 'Person' objects>, '__doc__': None}\n"
     ]
    }
   ],
   "source": [
    "class Person:\n",
    "    car = 5678\n",
    "    def __init__(self, name, age):\n",
    "        self.name = name\n",
    "        self.age = age\n",
    "\n",
    "person1 = Person(\"John Doe\", 30)\n",
    "person2 = Person(\"Jack\" , 20)\n",
    "\n",
    "print(Person.__dict__)"
   ]
  },
  {
   "cell_type": "code",
   "execution_count": 35,
   "id": "5ae5ab11",
   "metadata": {},
   "outputs": [
    {
     "name": "stdout",
     "output_type": "stream",
     "text": [
      "{'__module__': '__main__', 'pay_rate': 0.8, '__init__': <function Item.__init__ at 0x00000245D1894220>, 'cal': <function Item.cal at 0x00000245D1894680>, 'dis': <function Item.dis at 0x00000245D1897380>, '__dict__': <attribute '__dict__' of 'Item' objects>, '__weakref__': <attribute '__weakref__' of 'Item' objects>, '__doc__': None}\n"
     ]
    }
   ],
   "source": [
    "class Item:\n",
    "    pay_rate =0.8\n",
    "    def __init__(self, name: str, price: float, quantity=0):\n",
    "        assert price>=0,f\"price{price} is not greater than or equal to zero\"\n",
    "        assert quantity >=0,f\"quantity{quantity} is not greater than or equal to zero\"\n",
    "        \n",
    "        self.name = name\n",
    "        self.price = price\n",
    "        self.quantity = quantity\n",
    "        \n",
    "    def cal(self):\n",
    "        return self.price*self.quantity\n",
    "    \n",
    "    def dis(self):\n",
    "        self.price = self.price*Item.pay_rate\n",
    "    \n",
    "item1 = Item(\"phone\",7600,3)\n",
    "item2 = Item(\"laptop\",8900,2)\n",
    "\n",
    "print(Item.__dict__)\n"
   ]
  },
  {
   "cell_type": "code",
   "execution_count": 45,
   "id": "401e84bb",
   "metadata": {},
   "outputs": [
    {
     "name": "stdout",
     "output_type": "stream",
     "text": [
      "before calling dis-item1: 7600\n",
      "after calling dis-item1: 6080.0\n",
      "before calling dis: 8900\n",
      "after calling dis-item2: 7120.0\n",
      "item3 dis: 3400\n"
     ]
    }
   ],
   "source": [
    "class Item:\n",
    "    pay_rate =0.8\n",
    "    def __init__(self, name: str, price: float, quantity=0):\n",
    "        assert price>=0,f\"price{price} is not greater than or equal to zero\"\n",
    "        assert quantity >=0,f\"quantity{quantity} is not greater than or equal to zero\"\n",
    "        \n",
    "        self.name = name\n",
    "        self.price = price\n",
    "        self.quantity = quantity\n",
    "        \n",
    "    def cal(self):\n",
    "        return self.price*self.quantity\n",
    "    \n",
    "    def dis(self):\n",
    "        self.price = self.price*Item.pay_rate\n",
    "    \n",
    "item1 = Item(\"phone\",7600,3)\n",
    "item2 = Item(\"laptop\",8900,2)\n",
    "item3 = Item(\"ipod\",3400,7)\n",
    "item3.pay_rate=0.7\n",
    "print(\"before calling dis-item1:\",item1.price)\n",
    "item1.dis()\n",
    "print(\"after calling dis-item1:\",item1.price)\n",
    "print(\"before calling dis:\",item2.price)\n",
    "item2.dis()\n",
    "print(\"after calling dis-item2:\",item2.price)\n",
    "item3.dis\n",
    "print(\"item3 dis:\",item3.price)"
   ]
  },
  {
   "cell_type": "code",
   "execution_count": 63,
   "id": "46f330b3",
   "metadata": {
    "scrolled": true
   },
   "outputs": [
    {
     "name": "stdout",
     "output_type": "stream",
     "text": [
      "ipod\n",
      "[Item('phone','7600','3'), Item('laptop','8900','2'), Item('ipod','3400','7')]\n"
     ]
    }
   ],
   "source": [
    "class Item:\n",
    "    all = []\n",
    "    def __init__(self, name: str, price: float, quantity=0):\n",
    "      \n",
    "        self.name = name\n",
    "        self.price = price\n",
    "        self.quantity = quantity\n",
    "        \n",
    "        # assign to self object\n",
    "        Item.all.append(self)\n",
    "        \n",
    "    def cal(self):\n",
    "        return self.price*self.quantity\n",
    "    \n",
    "    def __repr__(self):\n",
    "        return f\"Item('{self.name}','{self.price}','{self.quantity}')\"\n",
    "\n",
    "item1 = Item(\"phone\",7600,3)\n",
    "item2 = Item(\"laptop\",8900,2)\n",
    "item3 = Item(\"ipod\",3400,7)\n",
    "print(item3.name)\n",
    "print(Item.all)"
   ]
  },
  {
   "cell_type": "code",
   "execution_count": 53,
   "id": "c76cfbf6",
   "metadata": {},
   "outputs": [
    {
     "name": "stdout",
     "output_type": "stream",
     "text": [
      "phone\n",
      "laptop\n",
      "ipod\n"
     ]
    }
   ],
   "source": [
    "for instance in Item.all:\n",
    "    print(instance.name)"
   ]
  },
  {
   "cell_type": "code",
   "execution_count": 2,
   "id": "4b5795d5",
   "metadata": {},
   "outputs": [
    {
     "name": "stdout",
     "output_type": "stream",
     "text": [
      "Recursive function initialized with n = 5\n",
      "Running recursive function with n = 5\n",
      "Running recursive function with n = 4\n",
      "Running recursive function with n = 3\n",
      "Running recursive function with n = 2\n",
      "Running recursive function with n = 1\n",
      "Recursive function object destroyed\n"
     ]
    }
   ],
   "source": [
    "class RecursiveFunction:\n",
    "\tdef __init__(self, n):\n",
    "\t\tself.n = n\n",
    "\t\tprint(\"Recursive function initialized with n =\", n)\n",
    "\n",
    "\tdef run(self, n=None):\n",
    "\t\tif n is None:\n",
    "\t\t\tn = self.n\n",
    "\t\tif n <= 0:\n",
    "\t\t\treturn\n",
    "\t\tprint(\"Running recursive function with n =\", n)\n",
    "\t\tself.run(n-1)\n",
    "\n",
    "\tdef __del__(self):\n",
    "\t\tprint(\"Recursive function object destroyed\")\n",
    "\n",
    "# Create an object of the class\n",
    "obj = RecursiveFunction(5)\n",
    "\n",
    "# Call the recursive function\n",
    "obj.run()\n",
    "\n",
    "# Destroy the object\n",
    "del obj\n"
   ]
  },
  {
   "cell_type": "code",
   "execution_count": 3,
   "id": "12c14c2d",
   "metadata": {},
   "outputs": [
    {
     "name": "stdout",
     "output_type": "stream",
     "text": [
      "Toyota\n"
     ]
    }
   ],
   "source": [
    "class Car:\n",
    "    def __init__(self, make, model):\n",
    "        self.make = make  # Instance attribute\n",
    "        self.model = model  # Instance attribute\n",
    "\n",
    "my_car = Car(\"Toyota\", \"Camry\")\n",
    "print(my_car.make)  # Accessing the instance attribute"
   ]
  },
  {
   "cell_type": "code",
   "execution_count": 4,
   "id": "4bbc7b85",
   "metadata": {},
   "outputs": [
    {
     "name": "stdout",
     "output_type": "stream",
     "text": [
      "4\n"
     ]
    }
   ],
   "source": [
    "class Car:\n",
    "    wheels = 4  # Class attribute\n",
    "\n",
    "    def __init__(self, make, model):\n",
    "        self.make = make\n",
    "        self.model = model\n",
    "\n",
    "my_car = Car(\"Toyota\", \"Camry\")\n",
    "print(my_car.wheels)  # Accessing the class attribute"
   ]
  },
  {
   "cell_type": "code",
   "execution_count": 5,
   "id": "aba07e5e",
   "metadata": {},
   "outputs": [
    {
     "name": "stdout",
     "output_type": "stream",
     "text": [
      "5\n"
     ]
    }
   ],
   "source": [
    "class Circle:\n",
    "    def __init__(self, radius):\n",
    "        self._radius = radius  # Private attribute\n",
    "\n",
    "    @property\n",
    "    def radius(self):\n",
    "        return self._radius\n",
    "\n",
    "    @radius.setter\n",
    "    def radius(self, value):\n",
    "        if value < 0:\n",
    "            raise ValueError(\"Radius cannot be negative\")\n",
    "        self._radius = value\n",
    "\n",
    "my_circle = Circle(5)\n",
    "print(my_circle.radius)  # Accessing the property\n",
    "my_circle.radius = 7  # Setting the property"
   ]
  },
  {
   "cell_type": "code",
   "execution_count": 7,
   "id": "75b7ebbb",
   "metadata": {},
   "outputs": [
    {
     "name": "stdout",
     "output_type": "stream",
     "text": [
      "Buddy is 3 years old.\n",
      "Charlie is 5 years old.\n",
      "Buddy says Woof!\n",
      "Charlie says Woof!\n"
     ]
    }
   ],
   "source": [
    "class Dog:\n",
    "    def __init__(self, name, age):\n",
    "        self.name = name\n",
    "        self.age = age\n",
    "\n",
    "    def bark(self):\n",
    "        print(f\"{self.name} says Woof!\")\n",
    "# Create instances of the Dog class\n",
    "dog1 = Dog(\"Buddy\", 3)\n",
    "dog2 = Dog(\"Charlie\", 5)\n",
    "\n",
    "# Access attributes\n",
    "print(f\"{dog1.name} is {dog1.age} years old.\")\n",
    "print(f\"{dog2.name} is {dog2.age} years old.\")\n",
    "\n",
    "# Call methods\n",
    "dog1.bark()\n",
    "dog2.bark()\n"
   ]
  },
  {
   "cell_type": "code",
   "execution_count": 8,
   "id": "724192c1",
   "metadata": {},
   "outputs": [
    {
     "name": "stdout",
     "output_type": "stream",
     "text": [
      "John is 25 years old.\n"
     ]
    }
   ],
   "source": [
    "class Person:\n",
    "    def __init__(self, name, age):\n",
    "        self.name = name\n",
    "        self.age = age\n",
    "\n",
    "# Create an instance of the Person class\n",
    "person1 = Person(\"John\", 25)\n",
    "\n",
    "# Access attributes\n",
    "print(f\"{person1.name} is {person1.age} years old.\")"
   ]
  },
  {
   "cell_type": "code",
   "execution_count": 9,
   "id": "c6072219",
   "metadata": {},
   "outputs": [
    {
     "name": "stdout",
     "output_type": "stream",
     "text": [
      "The Python Book by John Smith, published in 2020.\n"
     ]
    }
   ],
   "source": [
    "class Book:\n",
    "    def __init__(self, title, author, year_published=2020):\n",
    "        self.title = title\n",
    "        self.author = author\n",
    "        self.year_published = year_published\n",
    "\n",
    "# Create an instance of the Book class\n",
    "book1 = Book(\"The Python Book\", \"John Smith\")\n",
    "\n",
    "# Access attributes\n",
    "print(f\"{book1.title} by {book1.author}, published in {book1.year_published}.\")"
   ]
  },
  {
   "cell_type": "code",
   "execution_count": 10,
   "id": "3292d657",
   "metadata": {},
   "outputs": [
    {
     "name": "stdout",
     "output_type": "stream",
     "text": [
      "Rectangle 1 area: 1\n",
      "Rectangle 2 area: 20\n"
     ]
    }
   ],
   "source": [
    "class Rectangle:\n",
    "    def __init__(self, length=1, width=1):\n",
    "        self.length = length\n",
    "        self.width = width\n",
    "\n",
    "    def area(self):\n",
    "        return self.length * self.width\n",
    "\n",
    "# Create instances of the Rectangle class\n",
    "rectangle1 = Rectangle()\n",
    "rectangle2 = Rectangle(4, 5)\n",
    "\n",
    "# Access attributes and call methods\n",
    "print(f\"Rectangle 1 area: {rectangle1.area()}\")\n",
    "print(f\"Rectangle 2 area: {rectangle2.area()}\")"
   ]
  },
  {
   "cell_type": "code",
   "execution_count": 11,
   "id": "4f8b136d",
   "metadata": {},
   "outputs": [
    {
     "name": "stdout",
     "output_type": "stream",
     "text": [
      "Object Instance1 created.\n",
      "Object Instance2 created.\n"
     ]
    }
   ],
   "source": [
    "class MyClass:\n",
    "    def __init__(self, name):\n",
    "        self.name = name\n",
    "        print(f\"Object {self.name} created.\")\n",
    "\n",
    "    def __del__(self):\n",
    "        print(f\"Object {self.name} is being destroyed.\")\n",
    "\n",
    "# Create instances of the MyClass class\n",
    "obj1 = MyClass(\"Instance1\")\n",
    "obj2 = MyClass(\"Instance2\")"
   ]
  },
  {
   "cell_type": "code",
   "execution_count": 12,
   "id": "70c815ac",
   "metadata": {},
   "outputs": [
    {
     "name": "stdout",
     "output_type": "stream",
     "text": [
      "Recursive function initialized with n = 5\n",
      "Running recursive function with n = 5\n",
      "Running recursive function with n = 4\n",
      "Running recursive function with n = 3\n",
      "Running recursive function with n = 2\n",
      "Running recursive function with n = 1\n",
      "Recursive function object destroyed\n"
     ]
    }
   ],
   "source": [
    "class RecursiveFunction:\n",
    "\tdef __init__(self, n):\n",
    "\t\tself.n = n\n",
    "\t\tprint(\"Recursive function initialized with n =\", n)\n",
    "\n",
    "\tdef run(self, n=None):\n",
    "\t\tif n is None:\n",
    "\t\t\tn = self.n\n",
    "\t\tif n <= 0:\n",
    "\t\t\treturn\n",
    "\t\tprint(\"Running recursive function with n =\", n)\n",
    "\t\tself.run(n-1)\n",
    "\n",
    "\tdef __del__(self):\n",
    "\t\tprint(\"Recursive function object destroyed\")\n",
    "\n",
    "# Create an object of the class\n",
    "obj = RecursiveFunction(5)\n",
    "\n",
    "# Call the recursive function\n",
    "obj.run()\n",
    "\n",
    "# Destroy the object\n",
    "del obj\n"
   ]
  },
  {
   "cell_type": "code",
   "execution_count": 13,
   "id": "e5033f80",
   "metadata": {},
   "outputs": [
    {
     "name": "stdout",
     "output_type": "stream",
     "text": [
      "Buddy says Woof!\n",
      "Whiskers says Meow!\n",
      "Tweetie says Tweet!\n"
     ]
    }
   ],
   "source": [
    "# Base class (superclass)\n",
    "class Animal:\n",
    "    def __init__(self, name):\n",
    "        self.name = name\n",
    "\n",
    "    def make_sound(self):\n",
    "        pass\n",
    "\n",
    "# Derived class 1\n",
    "class Dog(Animal):\n",
    "    def make_sound(self):\n",
    "        return \"Woof!\"\n",
    "\n",
    "# Derived class 2\n",
    "class Cat(Animal):\n",
    "    def make_sound(self):\n",
    "        return \"Meow!\"\n",
    "\n",
    "# Derived class 3\n",
    "class Bird(Animal):\n",
    "    def make_sound(self):\n",
    "        return \"Tweet!\"\n",
    "\n",
    "# Create instances of the derived classes\n",
    "dog_instance = Dog(\"Buddy\")\n",
    "cat_instance = Cat(\"Whiskers\")\n",
    "bird_instance = Bird(\"Tweetie\")\n",
    "\n",
    "# Access attributes and call methods\n",
    "print(f\"{dog_instance.name} says {dog_instance.make_sound()}\")\n",
    "print(f\"{cat_instance.name} says {cat_instance.make_sound()}\")\n",
    "print(f\"{bird_instance.name} says {bird_instance.make_sound()}\")\n"
   ]
  },
  {
   "cell_type": "code",
   "execution_count": 14,
   "id": "02248528",
   "metadata": {},
   "outputs": [
    {
     "name": "stdout",
     "output_type": "stream",
     "text": [
      "The Toyota Camry's engine is starting.\n",
      "The Toyota Camry is now driving.\n",
      "The Harley-Davidson Sportster's engine is starting.\n",
      "The Harley-Davidson Sportster is doing a wheelie.\n"
     ]
    }
   ],
   "source": [
    "class Vehicle:\n",
    "    def __init__(self, brand, model):\n",
    "        self.brand = brand\n",
    "        self.model = model\n",
    "\n",
    "    def start_engine(self):\n",
    "        return f\"The {self.brand} {self.model}'s engine is starting.\"\n",
    "\n",
    "    def stop_engine(self):\n",
    "        return f\"The {self.brand} {self.model}'s engine is stopping.\"\n",
    "\n",
    "class Car(Vehicle):\n",
    "    def drive(self):\n",
    "        return f\"The {self.brand} {self.model} is now driving.\"\n",
    "\n",
    "class Motorcycle(Vehicle):\n",
    "    def wheelie(self):\n",
    "        return f\"The {self.brand} {self.model} is doing a wheelie.\"\n",
    "\n",
    "# Create instances of the derived classes\n",
    "car_instance = Car(\"Toyota\", \"Camry\")\n",
    "motorcycle_instance = Motorcycle(\"Harley-Davidson\", \"Sportster\")\n",
    "\n",
    "# Access attributes and call methods\n",
    "print(car_instance.start_engine())\n",
    "print(car_instance.drive())\n",
    "\n",
    "print(motorcycle_instance.start_engine())\n",
    "print(motorcycle_instance.wheelie())\n"
   ]
  },
  {
   "cell_type": "code",
   "execution_count": 15,
   "id": "a644aa77",
   "metadata": {},
   "outputs": [
    {
     "name": "stdout",
     "output_type": "stream",
     "text": [
      "Circle area: 78.53981633974483\n",
      "Square area: 16\n"
     ]
    }
   ],
   "source": [
    "import math\n",
    "\n",
    "class Shape:\n",
    "    def area(self):\n",
    "        pass\n",
    "\n",
    "class Circle(Shape):\n",
    "    def __init__(self, radius):\n",
    "        self.radius = radius\n",
    "\n",
    "    def area(self):\n",
    "        return math.pi * self.radius ** 2\n",
    "\n",
    "class Square(Shape):\n",
    "    def __init__(self, side_length):\n",
    "        self.side_length = side_length\n",
    "\n",
    "    def area(self):\n",
    "        return self.side_length ** 2\n",
    "\n",
    "# Create instances of the derived classes\n",
    "circle_instance = Circle(5)\n",
    "square_instance = Square(4)\n",
    "\n",
    "# Access attributes and call methods\n",
    "print(f\"Circle area: {circle_instance.area()}\")\n",
    "print(f\"Square area: {square_instance.area()}\")\n"
   ]
  },
  {
   "cell_type": "code",
   "execution_count": 16,
   "id": "dee23290",
   "metadata": {},
   "outputs": [
    {
     "name": "stdout",
     "output_type": "stream",
     "text": [
      "Alice is a manager in the IT department.\n",
      "Bob is a programmer specializing in Python.\n"
     ]
    }
   ],
   "source": [
    "class Employee:\n",
    "    def __init__(self, name, salary):\n",
    "        self.name = name\n",
    "        self.salary = salary\n",
    "\n",
    "    def get_info(self):\n",
    "        return f\"{self.name} earns ${self.salary} per year.\"\n",
    "\n",
    "class Manager(Employee):\n",
    "    def __init__(self, name, salary, department):\n",
    "        super().__init__(name, salary)\n",
    "        self.department = department\n",
    "\n",
    "    def get_info(self):\n",
    "        return f\"{self.name} is a manager in the {self.department} department.\"\n",
    "\n",
    "class Programmer(Employee):\n",
    "    def __init__(self, name, salary, programming_language):\n",
    "        super().__init__(name, salary)\n",
    "        self.programming_language = programming_language\n",
    "\n",
    "    def get_info(self):\n",
    "        return f\"{self.name} is a programmer specializing in {self.programming_language}.\"\n",
    "\n",
    "# Create instances of the derived classes\n",
    "manager_instance = Manager(\"Alice\", 80000, \"IT\")\n",
    "programmer_instance = Programmer(\"Bob\", 60000, \"Python\")\n",
    "\n",
    "# Access attributes and call methods\n",
    "print(manager_instance.get_info())\n",
    "print(programmer_instance.get_info())\n"
   ]
  },
  {
   "cell_type": "code",
   "execution_count": 17,
   "id": "b3062a02",
   "metadata": {},
   "outputs": [
    {
     "name": "stdout",
     "output_type": "stream",
     "text": [
      "Animal speaks.\n",
      "Dog barks.\n"
     ]
    }
   ],
   "source": [
    "class Animal:\n",
    "    def speak(self):\n",
    "        return \"Animal speaks.\"\n",
    "\n",
    "class Dog(Animal):\n",
    "    def bark(self):\n",
    "        return \"Dog barks.\"\n",
    "\n",
    "# Create an instance of the derived class\n",
    "dog_instance = Dog()\n",
    "\n",
    "# Access methods\n",
    "print(dog_instance.speak())  # Inherited from Animal class\n",
    "print(dog_instance.bark())   # Specific to Dog class\n"
   ]
  },
  {
   "cell_type": "code",
   "execution_count": 18,
   "id": "0a1803bc",
   "metadata": {},
   "outputs": [
    {
     "name": "stdout",
     "output_type": "stream",
     "text": [
      "Bird chirps.\n",
      "Object is flying.\n"
     ]
    }
   ],
   "source": [
    "class Bird:\n",
    "    def chirp(self):\n",
    "        return \"Bird chirps.\"\n",
    "\n",
    "class FlyingObject:\n",
    "    def fly(self):\n",
    "        return \"Object is flying.\"\n",
    "\n",
    "class FlyingBird(Bird, FlyingObject):\n",
    "    pass\n",
    "\n",
    "# Create an instance of the derived class\n",
    "flying_bird_instance = FlyingBird()\n",
    "\n",
    "# Access methods\n",
    "print(flying_bird_instance.chirp())  # Inherited from Bird class\n",
    "print(flying_bird_instance.fly())    # Inherited from FlyingObject class\n"
   ]
  },
  {
   "cell_type": "code",
   "execution_count": 19,
   "id": "1ceb9be6",
   "metadata": {},
   "outputs": [
    {
     "name": "stdout",
     "output_type": "stream",
     "text": [
      "Vehicle engine started.\n",
      "Car is now driving.\n",
      "Sports car is racing.\n"
     ]
    }
   ],
   "source": [
    "class Vehicle:\n",
    "    def start_engine(self):\n",
    "        return \"Vehicle engine started.\"\n",
    "\n",
    "class Car(Vehicle):\n",
    "    def drive(self):\n",
    "        return \"Car is now driving.\"\n",
    "\n",
    "class SportsCar(Car):\n",
    "    def race(self):\n",
    "        return \"Sports car is racing.\"\n",
    "\n",
    "# Create an instance of the derived class\n",
    "sports_car_instance = SportsCar()\n",
    "\n",
    "# Access methods\n",
    "print(sports_car_instance.start_engine())  # Inherited from Vehicle class\n",
    "print(sports_car_instance.drive())         # Inherited from Car class\n",
    "print(sports_car_instance.race())          # Specific to SportsCar class\n"
   ]
  },
  {
   "cell_type": "code",
   "execution_count": 20,
   "id": "e3c69941",
   "metadata": {},
   "outputs": [
    {
     "name": "stdout",
     "output_type": "stream",
     "text": [
      "Area calculation for a generic shape.\n",
      "78.5\n",
      "Area calculation for a generic shape.\n",
      "16\n"
     ]
    }
   ],
   "source": [
    "class Shape:\n",
    "    def area(self):\n",
    "        return \"Area calculation for a generic shape.\"\n",
    "\n",
    "class Circle(Shape):\n",
    "    def calculate_area(self, radius):\n",
    "        return 3.14 * radius ** 2\n",
    "\n",
    "class Square(Shape):\n",
    "    def calculate_area(self, side_length):\n",
    "        return side_length ** 2\n",
    "\n",
    "# Create instances of the derived classes\n",
    "circle_instance = Circle()\n",
    "square_instance = Square()\n",
    "\n",
    "# Access methods\n",
    "print(circle_instance.area())                    # Inherited from Shape class\n",
    "print(circle_instance.calculate_area(5))         # Specific to Circle class\n",
    "print(square_instance.area())                    # Inherited from Shape class\n",
    "print(square_instance.calculate_area(4))         # Specific to Square class\n"
   ]
  },
  {
   "cell_type": "code",
   "execution_count": 21,
   "id": "f74a029d",
   "metadata": {},
   "outputs": [
    {
     "name": "stdout",
     "output_type": "stream",
     "text": [
      "Animal speaks.\n",
      "Mammal gives birth to live young.\n",
      "Bird lays eggs.\n",
      "Bat is flying.\n"
     ]
    }
   ],
   "source": [
    "class Animal:\n",
    "    def speak(self):\n",
    "        return \"Animal speaks.\"\n",
    "\n",
    "class Mammal(Animal):\n",
    "    def give_birth(self):\n",
    "        return \"Mammal gives birth to live young.\"\n",
    "\n",
    "class Bird(Animal):\n",
    "    def lay_eggs(self):\n",
    "        return \"Bird lays eggs.\"\n",
    "\n",
    "class Bat(Mammal, Bird):\n",
    "    def fly(self):\n",
    "        return \"Bat is flying.\"\n",
    "\n",
    "# Create an instance of the derived class\n",
    "bat_instance = Bat()\n",
    "\n",
    "# Access methods\n",
    "print(bat_instance.speak())        # Inherited from Animal class\n",
    "print(bat_instance.give_birth())   # Inherited from Mammal class\n",
    "print(bat_instance.lay_eggs())     # Inherited from Bird class\n",
    "print(bat_instance.fly())          # Specific to Bat class\n"
   ]
  },
  {
   "cell_type": "code",
   "execution_count": 22,
   "id": "955158c4",
   "metadata": {},
   "outputs": [
    {
     "name": "stdout",
     "output_type": "stream",
     "text": [
      "Toyota Camry's engine started.\n",
      "Toyota Camry is driving for 20 miles.\n",
      "Fuel level: 70\n",
      "Refueling Toyota Camry with 15 gallons.\n",
      "Fuel level after refueling: 85\n"
     ]
    }
   ],
   "source": [
    "class Car:\n",
    "    def __init__(self, make, model):\n",
    "        self.__make = make  # Private attribute\n",
    "        self.__model = model  # Private attribute\n",
    "        self.__fuel_level = 100  # Private attribute\n",
    "\n",
    "    def start_engine(self):\n",
    "        print(f\"{self.__make} {self.__model}'s engine started.\")\n",
    "        self.__fuel_level -= 10\n",
    "\n",
    "    def drive(self, distance):\n",
    "        print(f\"{self.__make} {self.__model} is driving for {distance} miles.\")\n",
    "        self.__fuel_level -= distance\n",
    "\n",
    "    def get_fuel_level(self):\n",
    "        return self.__fuel_level  # Getter method\n",
    "\n",
    "    def refuel(self, amount):\n",
    "        print(f\"Refueling {self.__make} {self.__model} with {amount} gallons.\")\n",
    "        self.__fuel_level += amount\n",
    "\n",
    "# Create an instance of the Car class\n",
    "my_car = Car(\"Toyota\", \"Camry\")\n",
    "\n",
    "# Access public methods\n",
    "my_car.start_engine()\n",
    "my_car.drive(20)\n",
    "\n",
    "# Access private attribute indirectly using a getter method\n",
    "print(f\"Fuel level: {my_car.get_fuel_level()}\")\n",
    "\n",
    "# Attempting to access private attribute directly (will raise an error)\n",
    "# print(my_car.__fuel_level)\n",
    "\n",
    "# Access public method to modify private attribute\n",
    "my_car.refuel(15)\n",
    "print(f\"Fuel level after refueling: {my_car.get_fuel_level()}\")\n"
   ]
  },
  {
   "cell_type": "code",
   "execution_count": 23,
   "id": "b29a872b",
   "metadata": {},
   "outputs": [
    {
     "name": "stdout",
     "output_type": "stream",
     "text": [
      "Depositing $1000 into the account.\n",
      "Withdrawing $500 from the account.\n",
      "Account balance: $500\n"
     ]
    }
   ],
   "source": [
    "class BankAccount:\n",
    "    def __init__(self, account_holder, balance=0):\n",
    "        self.__account_holder = account_holder\n",
    "        self.__balance = balance\n",
    "\n",
    "    def deposit(self, amount):\n",
    "        print(f\"Depositing ${amount} into the account.\")\n",
    "        self.__balance += amount\n",
    "\n",
    "    def withdraw(self, amount):\n",
    "        if amount <= self.__balance:\n",
    "            print(f\"Withdrawing ${amount} from the account.\")\n",
    "            self.__balance -= amount\n",
    "        else:\n",
    "            print(\"Insufficient funds!\")\n",
    "\n",
    "    def get_balance(self):\n",
    "        return self.__balance\n",
    "\n",
    "# Create an instance of the BankAccount class\n",
    "account = BankAccount(\"John Doe\")\n",
    "\n",
    "# Access public methods to interact with the private attributes\n",
    "account.deposit(1000)\n",
    "account.withdraw(500)\n",
    "print(f\"Account balance: ${account.get_balance()}\")\n"
   ]
  },
  {
   "cell_type": "code",
   "execution_count": 24,
   "id": "a29bd0a3",
   "metadata": {},
   "outputs": [
    {
     "name": "stdout",
     "output_type": "stream",
     "text": [
      "Alice's salary: $50000\n",
      "Give raise of $5000 to Alice.\n",
      "After raise, Alice's salary: $55000\n"
     ]
    }
   ],
   "source": [
    "class Employee:\n",
    "    def __init__(self, name, salary):\n",
    "        self.__name = name\n",
    "        self.__salary = salary\n",
    "\n",
    "    def get_name(self):\n",
    "        return self.__name\n",
    "\n",
    "    def get_salary(self):\n",
    "        return self.__salary\n",
    "\n",
    "    def give_raise(self, raise_amount):\n",
    "        print(f\"Give raise of ${raise_amount} to {self.__name}.\")\n",
    "        self.__salary += raise_amount\n",
    "\n",
    "# Create an instance of the Employee class\n",
    "employee = Employee(\"Alice\", 50000)\n",
    "\n",
    "# Access public methods to retrieve and modify private attributes\n",
    "print(f\"{employee.get_name()}'s salary: ${employee.get_salary()}\")\n",
    "employee.give_raise(5000)\n",
    "print(f\"After raise, {employee.get_name()}'s salary: ${employee.get_salary()}\")\n"
   ]
  },
  {
   "cell_type": "code",
   "execution_count": 25,
   "id": "2c5adaba",
   "metadata": {},
   "outputs": [
    {
     "name": "stdout",
     "output_type": "stream",
     "text": [
      "Authentication successful.\n",
      "Changing password.\n"
     ]
    }
   ],
   "source": [
    "class SecuritySystem:\n",
    "    def __init__(self, username, password):\n",
    "        self.__username = username\n",
    "        self.__password = password\n",
    "\n",
    "    def authenticate(self, entered_username, entered_password):\n",
    "        return (\n",
    "            entered_username == self.__username\n",
    "            and entered_password == self.__password\n",
    "        )\n",
    "\n",
    "    def change_password(self, new_password):\n",
    "        print(\"Changing password.\")\n",
    "        self.__password = new_password\n",
    "\n",
    "# Create an instance of the SecuritySystem class\n",
    "security_system = SecuritySystem(\"admin\", \"secure_password\")\n",
    "\n",
    "# Access public methods to authenticate and change the password\n",
    "if security_system.authenticate(\"admin\", \"secure_password\"):\n",
    "    print(\"Authentication successful.\")\n",
    "    security_system.change_password(\"new_secure_password\")\n",
    "else:\n",
    "    print(\"Authentication failed.\")\n"
   ]
  },
  {
   "cell_type": "code",
   "execution_count": 30,
   "id": "3b7af26a",
   "metadata": {},
   "outputs": [
    {
     "name": "stdout",
     "output_type": "stream",
     "text": [
      "Result 1: 5\n",
      "Result 2: 9\n"
     ]
    }
   ],
   "source": [
    "class MathOperations:\n",
    "    def add(self, a, b, c=None):\n",
    "        if c is not None:\n",
    "            return a + b + c\n",
    "        else:\n",
    "            return a + b\n",
    "\n",
    "# Create an instance of the MathOperations class\n",
    "math_obj = MathOperations()\n",
    "\n",
    "# Call the modified method\n",
    "result1 = math_obj.add(2, 3)\n",
    "result2 = math_obj.add(2, 3, 4)\n",
    "\n",
    "print(f\"Result 1: {result1}\")\n",
    "print(f\"Result 2: {result2}\")\n"
   ]
  },
  {
   "cell_type": "code",
   "execution_count": 28,
   "id": "3c6e9f39",
   "metadata": {},
   "outputs": [
    {
     "name": "stdout",
     "output_type": "stream",
     "text": [
      "Woof!\n",
      "Meow!\n"
     ]
    }
   ],
   "source": [
    "class Animal:\n",
    "    def make_sound(self):\n",
    "        return \"Generic animal sound.\"\n",
    "\n",
    "class Dog(Animal):\n",
    "    def make_sound(self):\n",
    "        return \"Woof!\"\n",
    "\n",
    "class Cat(Animal):\n",
    "    def make_sound(self):\n",
    "        return \"Meow!\"\n",
    "\n",
    "# Create instances of the derived classes\n",
    "dog_instance = Dog()\n",
    "cat_instance = Cat()\n",
    "\n",
    "# Call the overridden method\n",
    "print(dog_instance.make_sound())  # Outputs \"Woof!\"\n",
    "print(cat_instance.make_sound())  # Outputs \"Meow!\"\n"
   ]
  },
  {
   "cell_type": "code",
   "execution_count": 31,
   "id": "c4a9cea3",
   "metadata": {},
   "outputs": [
    {
     "name": "stdout",
     "output_type": "stream",
     "text": [
      "Result Point: (4, 6)\n"
     ]
    }
   ],
   "source": [
    "class Point:\n",
    "    def __init__(self, x, y):\n",
    "        self.x = x\n",
    "        self.y = y\n",
    "\n",
    "    def __add__(self, other):\n",
    "        if isinstance(other, Point):\n",
    "            return Point(self.x + other.x, self.y + other.y)\n",
    "        else:\n",
    "            raise TypeError(\"Unsupported operand type.\")\n",
    "\n",
    "# Create instances of the Point class\n",
    "point1 = Point(1, 2)\n",
    "point2 = Point(3, 4)\n",
    "\n",
    "# Use the overloaded '+' operator\n",
    "result_point = point1 + point2\n",
    "\n",
    "print(f\"Result Point: ({result_point.x}, {result_point.y})\")\n"
   ]
  },
  {
   "cell_type": "code",
   "execution_count": 32,
   "id": "b0dbc96e",
   "metadata": {},
   "outputs": [
    {
     "name": "stdout",
     "output_type": "stream",
     "text": [
      "Woof!\n",
      "Meow!\n"
     ]
    }
   ],
   "source": [
    "def print_sound(animal):\n",
    "    print(animal.make_sound())\n",
    "\n",
    "class Animal:\n",
    "    def make_sound(self):\n",
    "        return \"Generic animal sound.\"\n",
    "\n",
    "class Dog(Animal):\n",
    "    def make_sound(self):\n",
    "        return \"Woof!\"\n",
    "\n",
    "class Cat(Animal):\n",
    "    def make_sound(self):\n",
    "        return \"Meow!\"\n",
    "\n",
    "# Create instances of the derived classes\n",
    "dog_instance = Dog()\n",
    "cat_instance = Cat()\n",
    "\n",
    "# Call the polymorphic function with different objects\n",
    "print_sound(dog_instance)\n",
    "print_sound(cat_instance)\n"
   ]
  },
  {
   "cell_type": "code",
   "execution_count": 33,
   "id": "25528af5",
   "metadata": {},
   "outputs": [
    {
     "name": "stdout",
     "output_type": "stream",
     "text": [
      "Area: 78.5\n",
      "Area: 16\n"
     ]
    }
   ],
   "source": [
    "class Shape:\n",
    "    def area(self):\n",
    "        return 0\n",
    "\n",
    "class Circle(Shape):\n",
    "    def __init__(self, radius):\n",
    "        self.radius = radius\n",
    "\n",
    "    def area(self):\n",
    "        return 3.14 * self.radius ** 2\n",
    "\n",
    "class Square(Shape):\n",
    "    def __init__(self, side_length):\n",
    "        self.side_length = side_length\n",
    "\n",
    "    def area(self):\n",
    "        return self.side_length ** 2\n",
    "\n",
    "# Create instances of the derived classes\n",
    "circle_instance = Circle(5)\n",
    "square_instance = Square(4)\n",
    "\n",
    "# Create a list of shapes\n",
    "shapes = [circle_instance, square_instance]\n",
    "\n",
    "# Calculate and print the area of each shape in the list\n",
    "for shape in shapes:\n",
    "    print(f\"Area: {shape.area()}\")\n"
   ]
  },
  {
   "cell_type": "code",
   "execution_count": 34,
   "id": "58b05f1e",
   "metadata": {},
   "outputs": [
    {
     "name": "stdout",
     "output_type": "stream",
     "text": [
      "Circle area: 78.5\n",
      "Square area: 16\n"
     ]
    }
   ],
   "source": [
    "from abc import ABC, abstractmethod\n",
    "\n",
    "# Abstract class with an abstract method\n",
    "class Shape(ABC):\n",
    "    @abstractmethod\n",
    "    def area(self):\n",
    "        pass\n",
    "\n",
    "# Concrete class implementing the abstract class\n",
    "class Circle(Shape):\n",
    "    def __init__(self, radius):\n",
    "        self.radius = radius\n",
    "\n",
    "    def area(self):\n",
    "        return 3.14 * self.radius ** 2\n",
    "\n",
    "# Concrete class implementing the abstract class\n",
    "class Square(Shape):\n",
    "    def __init__(self, side_length):\n",
    "        self.side_length = side_length\n",
    "\n",
    "    def area(self):\n",
    "        return self.side_length ** 2\n",
    "\n",
    "# Create instances of the derived classes\n",
    "circle_instance = Circle(5)\n",
    "square_instance = Square(4)\n",
    "\n",
    "# Call the area method polymorphically\n",
    "print(f\"Circle area: {circle_instance.area()}\")\n",
    "print(f\"Square area: {square_instance.area()}\")\n"
   ]
  },
  {
   "cell_type": "code",
   "execution_count": 35,
   "id": "0fcf5c7d",
   "metadata": {},
   "outputs": [
    {
     "name": "stdout",
     "output_type": "stream",
     "text": [
      "Woof!\n",
      "Meow!\n"
     ]
    }
   ],
   "source": [
    "from abc import ABC, abstractmethod\n",
    "\n",
    "# Abstract class with an abstract method\n",
    "class Animal(ABC):\n",
    "    @abstractmethod\n",
    "    def make_sound(self):\n",
    "        pass\n",
    "\n",
    "# Concrete classes implementing the abstract class\n",
    "class Dog(Animal):\n",
    "    def make_sound(self):\n",
    "        return \"Woof!\"\n",
    "\n",
    "class Cat(Animal):\n",
    "    def make_sound(self):\n",
    "        return \"Meow!\"\n",
    "\n",
    "# Create instances of the derived classes\n",
    "dog_instance = Dog()\n",
    "cat_instance = Cat()\n",
    "\n",
    "# Call the abstract method polymorphically\n",
    "print(dog_instance.make_sound())\n",
    "print(cat_instance.make_sound())\n"
   ]
  },
  {
   "cell_type": "code",
   "execution_count": 36,
   "id": "1336dab3",
   "metadata": {},
   "outputs": [
    {
     "name": "stdout",
     "output_type": "stream",
     "text": [
      "Circle area: 78.5\n"
     ]
    }
   ],
   "source": [
    "from abc import ABC, abstractmethod\n",
    "\n",
    "# Abstract base class for shapes\n",
    "class Shape(ABC):\n",
    "    @abstractmethod\n",
    "    def area(self):\n",
    "        pass\n",
    "\n",
    "# Concrete class implementing the abstract base class\n",
    "class Circle(Shape):\n",
    "    def __init__(self, radius):\n",
    "        self.radius = radius\n",
    "\n",
    "    def area(self):\n",
    "        return 3.14 * self.radius ** 2\n",
    "\n",
    "# Create an instance of the derived class\n",
    "circle_instance = Circle(5)\n",
    "\n",
    "# Call the abstract method polymorphically\n",
    "print(f\"Circle area: {circle_instance.area()}\")\n"
   ]
  },
  {
   "cell_type": "code",
   "execution_count": 37,
   "id": "a86999a5",
   "metadata": {},
   "outputs": [
    {
     "name": "stdout",
     "output_type": "stream",
     "text": [
      "Email validation result: True\n"
     ]
    }
   ],
   "source": [
    "from abc import ABC, abstractmethod\n",
    "\n",
    "# Abstract base class for data validation\n",
    "class Validator(ABC):\n",
    "    @abstractmethod\n",
    "    def validate(self, data):\n",
    "        pass\n",
    "\n",
    "# Concrete class implementing the abstract base class\n",
    "class EmailValidator(Validator):\n",
    "    def validate(self, data):\n",
    "        if \"@\" in data and \".\" in data:\n",
    "            return True\n",
    "        else:\n",
    "            return False\n",
    "\n",
    "# Create an instance of the derived class\n",
    "email_validator = EmailValidator()\n",
    "\n",
    "# Call the abstract method polymorphically\n",
    "email_result = email_validator.validate(\"user@example.com\")\n",
    "print(f\"Email validation result: {email_result}\")\n"
   ]
  },
  {
   "cell_type": "code",
   "execution_count": 38,
   "id": "6d26e665",
   "metadata": {},
   "outputs": [
    {
     "name": "stdout",
     "output_type": "stream",
     "text": [
      "Sum: 5\n",
      "Product: 20\n"
     ]
    }
   ],
   "source": [
    "class MathOperations:\n",
    "    @staticmethod\n",
    "    def add(a, b):\n",
    "        return a + b\n",
    "\n",
    "    @staticmethod\n",
    "    def multiply(a, b):\n",
    "        return a * b\n",
    "\n",
    "# Calling static methods without creating an instance\n",
    "sum_result = MathOperations.add(2, 3)\n",
    "product_result = MathOperations.multiply(4, 5)\n",
    "\n",
    "print(f\"Sum: {sum_result}\")\n",
    "print(f\"Product: {product_result}\")\n"
   ]
  },
  {
   "cell_type": "code",
   "execution_count": 39,
   "id": "793bc773",
   "metadata": {},
   "outputs": [
    {
     "name": "stdout",
     "output_type": "stream",
     "text": [
      "Object Instance1 is being destroyed.\n",
      "Object Instance2 is being destroyed.\n",
      "Class variable: 2\n",
      "Instance variable (obj1): 10\n",
      "Instance variable (obj2): 20\n"
     ]
    }
   ],
   "source": [
    "class MyClass:\n",
    "    class_variable = 0\n",
    "\n",
    "    def __init__(self, value):\n",
    "        self.instance_variable = value\n",
    "        MyClass.class_variable += 1\n",
    "\n",
    "    @classmethod\n",
    "    def get_class_variable(cls):\n",
    "        return cls.class_variable\n",
    "\n",
    "    def get_instance_variable(self):\n",
    "        return self.instance_variable\n",
    "\n",
    "# Creating instances of the class\n",
    "obj1 = MyClass(10)\n",
    "obj2 = MyClass(20)\n",
    "\n",
    "# Calling class and instance methods\n",
    "print(f\"Class variable: {MyClass.get_class_variable()}\")\n",
    "print(f\"Instance variable (obj1): {obj1.get_instance_variable()}\")\n",
    "print(f\"Instance variable (obj2): {obj2.get_instance_variable()}\")\n"
   ]
  },
  {
   "cell_type": "code",
   "execution_count": 40,
   "id": "1fd5fdef",
   "metadata": {},
   "outputs": [
    {
     "name": "stdout",
     "output_type": "stream",
     "text": [
      "Car started. Engine started.\n",
      "Car stopped. Engine stopped.\n"
     ]
    }
   ],
   "source": [
    "class Engine:\n",
    "    def start(self):\n",
    "        return \"Engine started.\"\n",
    "\n",
    "    def stop(self):\n",
    "        return \"Engine stopped.\"\n",
    "\n",
    "class Car:\n",
    "    def __init__(self):\n",
    "        self.engine = Engine()\n",
    "\n",
    "    def start(self):\n",
    "        return f\"Car started. {self.engine.start()}\"\n",
    "\n",
    "    def stop(self):\n",
    "        return f\"Car stopped. {self.engine.stop()}\"\n",
    "\n",
    "# Create an instance of the Car class\n",
    "my_car = Car()\n",
    "\n",
    "# Use composition to start and stop the car\n",
    "print(my_car.start())\n",
    "print(my_car.stop())\n"
   ]
  },
  {
   "cell_type": "code",
   "execution_count": 41,
   "id": "41f6cff3",
   "metadata": {},
   "outputs": [
    {
     "name": "stdout",
     "output_type": "stream",
     "text": [
      "Book title: Python Programming\n",
      "Author: John Doe\n"
     ]
    }
   ],
   "source": [
    "class Author:\n",
    "    def __init__(self, name):\n",
    "        self.name = name\n",
    "\n",
    "class Book:\n",
    "    def __init__(self, title, author):\n",
    "        self.title = title\n",
    "        self.author = author\n",
    "\n",
    "# Create instances of the Author and Book classes\n",
    "author = Author(\"John Doe\")\n",
    "book = Book(\"Python Programming\", author)\n",
    "\n",
    "# Use aggregation to associate an author with a book\n",
    "print(f\"Book title: {book.title}\")\n",
    "print(f\"Author: {book.author.name}\")\n"
   ]
  },
  {
   "cell_type": "code",
   "execution_count": 42,
   "id": "c147c4bb",
   "metadata": {},
   "outputs": [
    {
     "name": "stdout",
     "output_type": "stream",
     "text": [
      "Alice is enrolled in Python Programming.\n"
     ]
    }
   ],
   "source": [
    "class Student:\n",
    "    def __init__(self, name):\n",
    "        self.name = name\n",
    "\n",
    "class Course:\n",
    "    def __init__(self, title):\n",
    "        self.title = title\n",
    "\n",
    "class Enrollment:\n",
    "    def __init__(self, student, course):\n",
    "        self.student = student\n",
    "        self.course = course\n",
    "\n",
    "# Create instances of Student, Course, and Enrollment\n",
    "student1 = Student(\"Alice\")\n",
    "course1 = Course(\"Python Programming\")\n",
    "enrollment1 = Enrollment(student1, course1)\n",
    "\n",
    "# Representing association\n",
    "print(f\"{enrollment1.student.name} is enrolled in {enrollment1.course.title}.\")\n"
   ]
  },
  {
   "cell_type": "code",
   "execution_count": 43,
   "id": "460b8f9e",
   "metadata": {},
   "outputs": [
    {
     "name": "stdout",
     "output_type": "stream",
     "text": [
      "Logging: User created: JohnDoe\n"
     ]
    }
   ],
   "source": [
    "class Logger:\n",
    "    def log(self, message):\n",
    "        print(f\"Logging: {message}\")\n",
    "\n",
    "class UserManager:\n",
    "    def __init__(self, logger):\n",
    "        self.logger = logger\n",
    "\n",
    "    def create_user(self, username):\n",
    "        # Business logic for creating a user\n",
    "        self.logger.log(f\"User created: {username}\")\n",
    "\n",
    "# Create instances of Logger and UserManager\n",
    "logger = Logger()\n",
    "user_manager = UserManager(logger)\n",
    "\n",
    "# Representing dependency\n",
    "user_manager.create_user(\"JohnDoe\")\n"
   ]
  },
  {
   "cell_type": "code",
   "execution_count": 44,
   "id": "24679ef7",
   "metadata": {},
   "outputs": [
    {
     "name": "stdout",
     "output_type": "stream",
     "text": [
      "Department in Example University: Mathematics\n",
      "Department in Example University: Physics\n"
     ]
    }
   ],
   "source": [
    "class Department:\n",
    "    def __init__(self, name):\n",
    "        self.name = name\n",
    "\n",
    "class University:\n",
    "    def __init__(self, name):\n",
    "        self.name = name\n",
    "        self.departments = []  # Aggregation - University has-a list of departments\n",
    "\n",
    "    def add_department(self, department):\n",
    "        self.departments.append(department)\n",
    "\n",
    "# Create instances of Department and University\n",
    "math_department = Department(\"Mathematics\")\n",
    "physics_department = Department(\"Physics\")\n",
    "\n",
    "university = University(\"Example University\")\n",
    "\n",
    "# Use aggregation to associate departments with the university\n",
    "university.add_department(math_department)\n",
    "university.add_department(physics_department)\n",
    "\n",
    "# Accessing departments from the university\n",
    "for department in university.departments:\n",
    "    print(f\"Department in {university.name}: {department.name}\")\n"
   ]
  },
  {
   "cell_type": "code",
   "execution_count": 45,
   "id": "14a8df77",
   "metadata": {},
   "outputs": [
    {
     "name": "stdout",
     "output_type": "stream",
     "text": [
      "Car started. Engine started.\n",
      "Car stopped. Engine stopped.\n"
     ]
    }
   ],
   "source": [
    "class Engine:\n",
    "    def start(self):\n",
    "        return \"Engine started.\"\n",
    "\n",
    "    def stop(self):\n",
    "        return \"Engine stopped.\"\n",
    "\n",
    "class Car:\n",
    "    def __init__(self):\n",
    "        self.engine = Engine()  # Composition - Car has-an Engine\n",
    "\n",
    "    def start(self):\n",
    "        return f\"Car started. {self.engine.start()}\"\n",
    "\n",
    "    def stop(self):\n",
    "        return f\"Car stopped. {self.engine.stop()}\"\n",
    "\n",
    "# Create an instance of the Car class\n",
    "my_car = Car()\n",
    "\n",
    "# Use composition to start and stop the car\n",
    "print(my_car.start())\n",
    "print(my_car.stop())\n"
   ]
  },
  {
   "cell_type": "code",
   "execution_count": null,
   "id": "326b81d9",
   "metadata": {},
   "outputs": [],
   "source": []
  }
 ],
 "metadata": {
  "kernelspec": {
   "display_name": "Python 3 (ipykernel)",
   "language": "python",
   "name": "python3"
  },
  "language_info": {
   "codemirror_mode": {
    "name": "ipython",
    "version": 3
   },
   "file_extension": ".py",
   "mimetype": "text/x-python",
   "name": "python",
   "nbconvert_exporter": "python",
   "pygments_lexer": "ipython3",
   "version": "3.11.5"
  }
 },
 "nbformat": 4,
 "nbformat_minor": 5
}
