{
 "cells": [
  {
   "cell_type": "code",
   "execution_count": 1,
   "id": "d23e07d1",
   "metadata": {},
   "outputs": [
    {
     "name": "stdout",
     "output_type": "stream",
     "text": [
      "swetha\n",
      "22\n",
      "rithika\n"
     ]
    }
   ],
   "source": [
    "''' Create a class Person with attributes name and age, and instantiate an object from it. '''\n",
    "class person:\n",
    "    def __init__(self,name,age):\n",
    "        self.name = name\n",
    "        self.age = age\n",
    "person1 = person(\"swetha\",22)\n",
    "person2 = person(\"sowmiya\",22)\n",
    "person3 = person(\"rithika\",21)\n",
    "print(person1.name)\n",
    "print(person2.age)\n",
    "print(person3.name)"
   ]
  },
  {
   "cell_type": "code",
   "execution_count": 6,
   "id": "2bae559f",
   "metadata": {},
   "outputs": [
    {
     "name": "stdout",
     "output_type": "stream",
     "text": [
      "800\n",
      "90\n"
     ]
    }
   ],
   "source": [
    "''' Write a class Rectangle with attributes length and width, and methods to calculate its area and perimeter. '''\n",
    "class rect:\n",
    "    def __init__(self,leng,wid):\n",
    "        self.leng = leng\n",
    "        self.wid = wid\n",
    "    def are(self):\n",
    "        return self.leng*self.wid\n",
    "    def peri(self):\n",
    "        return 2*(self.leng+self.wid)\n",
    "r1 = rect(20,40)\n",
    "r2 = rect(15,30)\n",
    "print(r1.are())\n",
    "print(r2.peri())\n"
   ]
  },
  {
   "cell_type": "code",
   "execution_count": 7,
   "id": "ff1139b0",
   "metadata": {},
   "outputs": [
    {
     "name": "stdout",
     "output_type": "stream",
     "text": [
      "Area of r1: 800\n",
      "Perimeter of r2: 90\n"
     ]
    }
   ],
   "source": [
    "class Rect:\n",
    "    def __init__(self, leng, wid):\n",
    "        self.leng = leng\n",
    "        self.wid = wid\n",
    "\n",
    "    def area(self, x, y):\n",
    "        return x * y\n",
    "\n",
    "    def perimeter(self, n, m):\n",
    "        return 2 * (n + m)\n",
    "\n",
    "# Creating instances of the Rect class\n",
    "r1 = Rect(20, 40)\n",
    "r2 = Rect(15, 30)\n",
    "\n",
    "# Calculating area and perimeter using the instance variables\n",
    "area_r1 = r1.area(r1.leng, r1.wid)\n",
    "perimeter_r2 = r2.perimeter(r2.leng, r2.wid)\n",
    "\n",
    "# Alternatively, you can directly use the instance variables within the methods\n",
    "# area_r1 = r1.area(r1.leng, r1.wid)\n",
    "# perimeter_r2 = r2.perimeter(r2.leng, r2.wid)\n",
    "\n",
    "# Printing the results\n",
    "print(f\"Area of r1: {area_r1}\")\n",
    "print(f\"Perimeter of r2: {perimeter_r2}\")\n"
   ]
  },
  {
   "cell_type": "code",
   "execution_count": 10,
   "id": "2e6e6595",
   "metadata": {},
   "outputs": [
    {
     "name": "stdout",
     "output_type": "stream",
     "text": [
      "5912\n",
      "18891\n"
     ]
    }
   ],
   "source": [
    "''' Build a BankAccount class with attributes account_number and balance, and methods to deposit and withdraw money. '''\n",
    "class bankaccount:\n",
    "    def __init__(self,acc_num,bal):\n",
    "        self.acc_num = acc_num\n",
    "        self.bal = bal\n",
    "    def dep(self,x):\n",
    "        return self.bal+x\n",
    "    def wit(self,y):\n",
    "        return self.bal-y\n",
    "p1 = bankaccount(1234,5678)\n",
    "p2 = bankaccount(3567,23458)\n",
    "\n",
    "res1 = p1.dep(x=234)\n",
    "res2 = p2.wit(y=4567)\n",
    "print(res1)\n",
    "print(res2)\n",
    "\n"
   ]
  },
  {
   "cell_type": "code",
   "execution_count": 9,
   "id": "caf55ca1",
   "metadata": {},
   "outputs": [
    {
     "name": "stdout",
     "output_type": "stream",
     "text": [
      "Deposited $500. New balance: $1500\n",
      "Withdrew $200. New balance: $1300\n",
      "Invalid withdrawal amount or insufficient funds.\n"
     ]
    }
   ],
   "source": [
    "class BankAccount:\n",
    "    def __init__(self, account_number, balance=0):\n",
    "        self.account_number = account_number\n",
    "        self.balance = balance\n",
    "\n",
    "    def deposit(self, amount):\n",
    "        if amount > 0:\n",
    "            self.balance += amount\n",
    "            print(f\"Deposited ${amount}. New balance: ${self.balance}\")\n",
    "        else:\n",
    "            print(\"Invalid deposit amount. Please deposit a positive amount.\")\n",
    "\n",
    "    def withdraw(self, amount):\n",
    "        if 0 < amount <= self.balance:\n",
    "            self.balance -= amount\n",
    "            print(f\"Withdrew ${amount}. New balance: ${self.balance}\")\n",
    "        else:\n",
    "            print(\"Invalid withdrawal amount or insufficient funds.\")\n",
    "\n",
    "# Example usage:\n",
    "# Create a bank account with an account number and an initial balance of $1000\n",
    "account1 = BankAccount(account_number=\"123456789\", balance=1000)\n",
    "\n",
    "# Deposit $500 into the account\n",
    "account1.deposit(500)\n",
    "\n",
    "# Withdraw $200 from the account\n",
    "account1.withdraw(200)\n",
    "\n",
    "# Try to withdraw an invalid amount\n",
    "account1.withdraw(1500)\n"
   ]
  },
  {
   "cell_type": "code",
   "execution_count": 16,
   "id": "e27b8511",
   "metadata": {},
   "outputs": [
    {
     "name": "stdout",
     "output_type": "stream",
     "text": [
      "[car 'a','toyato','2000', car 'b','tesla','2001']\n"
     ]
    }
   ],
   "source": [
    "''' Create a class Car with attributes make, model, and year, and a method get_info that returns the car's details.\n",
    " '''\n",
    "class car:\n",
    "    all = []\n",
    "    def __init__(self,make,model,year):\n",
    "        self.make = make\n",
    "        self.model = model\n",
    "        self.year = year\n",
    "        car.all.append(self)\n",
    "    def __repr__(self):\n",
    "        return f\"car '{self.make}','{self.model}','{self.year}'\"\n",
    "    \n",
    "c1 = car(\"a\",\"toyato\",2000)\n",
    "c2 = car(\"b\",\"tesla\",2001)\n",
    "print(c1.all)\n"
   ]
  },
  {
   "cell_type": "code",
   "execution_count": 17,
   "id": "4fabed31",
   "metadata": {},
   "outputs": [
    {
     "name": "stdout",
     "output_type": "stream",
     "text": [
      "2022 Toyota Camry\n",
      "2023 Tesla Model 3\n"
     ]
    }
   ],
   "source": [
    "class Car:\n",
    "    def __init__(self, make, model, year):\n",
    "        self.make = make\n",
    "        self.model = model\n",
    "        self.year = year\n",
    "\n",
    "    def get_info(self):\n",
    "        return f\"{self.year} {self.make} {self.model}\"\n",
    "\n",
    "# Example usage:\n",
    "# Create instances of the Car class\n",
    "car1 = Car(\"Toyota\", \"Camry\", 2022)\n",
    "car2 = Car(\"Tesla\", \"Model 3\", 2023)\n",
    "\n",
    "# Get and print car details using the get_info method\n",
    "print(car1.get_info())  # Output: 2022 Toyota Camry\n",
    "print(car2.get_info())  # Output: 2023 Tesla Model 3\n"
   ]
  },
  {
   "cell_type": "code",
   "execution_count": 26,
   "id": "127113e2",
   "metadata": {},
   "outputs": [
    {
     "name": "stdout",
     "output_type": "stream",
     "text": [
      "A\n",
      "A\n",
      "Fail\n",
      "B\n"
     ]
    }
   ],
   "source": [
    "''' Write a Student class with attributes name, roll_number, and marks, and \n",
    "a method calculate_grade that returns the grade based on marks. '''\n",
    "class stu:\n",
    "    def __init__ (self,name,rolln,marks):\n",
    "        self.name = name\n",
    "        self.rolln = rolln\n",
    "        self.marks = marks\n",
    "    def grade(self):\n",
    "        if self.marks>=50:\n",
    "            return \"A\"\n",
    "        elif self.marks>=1:\n",
    "            return \"B\"\n",
    "        else:\n",
    "            return \"Fail\"\n",
    "p1 = stu(\"swetha\",147,98)\n",
    "p2 = stu(\"sowmiya\",133,95)\n",
    "p3 = stu(\"tamil\",150,0)\n",
    "p4 = stu (\"eshwar\",142,10)\n",
    "\n",
    "print(p1.grade())\n",
    "print(p2.grade())\n",
    "print(p3.grade())\n",
    "print(p4.grade())\n",
    "            "
   ]
  },
  {
   "cell_type": "code",
   "execution_count": 28,
   "id": "d5ff3bd5",
   "metadata": {},
   "outputs": [
    {
     "name": "stdout",
     "output_type": "stream",
     "text": [
      "A+\n",
      "A+\n",
      "Fail\n",
      "Fail\n"
     ]
    }
   ],
   "source": [
    "class stu:\n",
    "    def __init__(self, name, rolln, marks):\n",
    "        self.name = name\n",
    "        self.rolln = rolln\n",
    "        self.marks = marks\n",
    "\n",
    "    def grade(self):\n",
    "        if self.marks == 100 or self.marks >= 90:\n",
    "            return \"A+\"\n",
    "        elif 80 <= self.marks < 90:\n",
    "            return \"A\"\n",
    "        elif 70 <= self.marks < 80:\n",
    "            return \"B+\"\n",
    "        elif 60 <= self.marks < 70:\n",
    "            return \"B\"\n",
    "        elif 40 <= self.marks < 50:\n",
    "            return \"U\"\n",
    "        else:\n",
    "            return \"Fail\"\n",
    "\n",
    "p1 = stu(\"swetha\", 147, 98)\n",
    "p2 = stu(\"sowmiya\", 133, 95)\n",
    "p3 = stu(\"tamil\", 150, 0)\n",
    "p4 = stu(\"eshwar\", 142, 10)\n",
    "\n",
    "print(p1.grade())\n",
    "print(p2.grade())\n",
    "print(p3.grade())\n",
    "print(p4.grade())\n",
    "\n",
    "            "
   ]
  },
  {
   "cell_type": "code",
   "execution_count": 29,
   "id": "26ed8605",
   "metadata": {},
   "outputs": [
    {
     "name": "stdout",
     "output_type": "stream",
     "text": [
      "John's grade: A+\n",
      "Alice's grade: B\n",
      "Bob's grade: C\n"
     ]
    }
   ],
   "source": [
    "class Student:\n",
    "    def __init__(self, name, roll_number, marks):\n",
    "        self.name = name\n",
    "        self.roll_number = roll_number\n",
    "        self.marks = marks\n",
    "\n",
    "    def calculate_grade(self):\n",
    "        if self.marks >= 90:\n",
    "            return \"A+\"\n",
    "        elif 80 <= self.marks < 90:\n",
    "            return \"A\"\n",
    "        elif 70 <= self.marks < 80:\n",
    "            return \"B\"\n",
    "        elif 60 <= self.marks < 70:\n",
    "            return \"C\"\n",
    "        elif 50 <= self.marks < 60:\n",
    "            return \"D\"\n",
    "        else:\n",
    "            return \"F\"\n",
    "\n",
    "# Example usage:\n",
    "student1 = Student(\"John\", \"12345\", 92)\n",
    "student2 = Student(\"Alice\", \"54321\", 78)\n",
    "student3 = Student(\"Bob\", \"98765\", 60)\n",
    "\n",
    "print(f\"{student1.name}'s grade: {student1.calculate_grade()}\")\n",
    "print(f\"{student2.name}'s grade: {student2.calculate_grade()}\")\n",
    "print(f\"{student3.name}'s grade: {student3.calculate_grade()}\")\n"
   ]
  },
  {
   "cell_type": "code",
   "execution_count": 1,
   "id": "d05f7d4a",
   "metadata": {},
   "outputs": [
    {
     "name": "stdout",
     "output_type": "stream",
     "text": [
      "The Toyota Camry's engine is now running.\n",
      "The Harley Davidson's engine is now running.\n",
      "The Toyota Camry is now in motion.\n",
      "The Harley Davidson is now on the move.\n",
      "The Toyota Camry's engine is now stopped.\n",
      "The Harley Davidson's engine is now stopped.\n"
     ]
    }
   ],
   "source": [
    "''' Build a class hierarchy: Vehicle -> Car and Bike, with methods like start_engine and stop_engine. '''\n",
    "class Vehicle:\n",
    "    def __init__(self, make, model):\n",
    "        self.make = make\n",
    "        self.model = model\n",
    "        self.engine_status = False\n",
    "\n",
    "    def start_engine(self):\n",
    "        if not self.engine_status:\n",
    "            self.engine_status = True\n",
    "            return f\"The {self.make} {self.model}'s engine is now running.\"\n",
    "        else:\n",
    "            return f\"The {self.make} {self.model}'s engine is already running.\"\n",
    "\n",
    "    def stop_engine(self):\n",
    "        if self.engine_status:\n",
    "            self.engine_status = False\n",
    "            return f\"The {self.make} {self.model}'s engine is now stopped.\"\n",
    "        else:\n",
    "            return f\"The {self.make} {self.model}'s engine is already stopped.\"\n",
    "\n",
    "class Car(Vehicle):\n",
    "    def __init__(self, make, model, num_doors):\n",
    "        super().__init__(make, model)\n",
    "        self.num_doors = num_doors\n",
    "\n",
    "    def drive(self):\n",
    "        return f\"The {self.make} {self.model} is now in motion.\"\n",
    "\n",
    "class Bike(Vehicle):\n",
    "    def __init__(self, make, model, num_wheels):\n",
    "        super().__init__(make, model)\n",
    "        self.num_wheels = num_wheels\n",
    "\n",
    "    def ride(self):\n",
    "        return f\"The {self.make} {self.model} is now on the move.\"\n",
    "\n",
    "# Example usage:\n",
    "\n",
    "# Create instances of Car and Bike\n",
    "my_car = Car(\"Toyota\", \"Camry\", 4)\n",
    "my_bike = Bike(\"Harley\", \"Davidson\", 2)\n",
    "\n",
    "# Use methods from the Vehicle class\n",
    "print(my_car.start_engine())\n",
    "print(my_bike.start_engine())\n",
    "\n",
    "# Use methods specific to Car and Bike\n",
    "print(my_car.drive())\n",
    "print(my_bike.ride())\n",
    "\n",
    "# Use methods from the Vehicle class\n",
    "print(my_car.stop_engine())\n",
    "print(my_bike.stop_engine())\n"
   ]
  },
  {
   "cell_type": "code",
   "execution_count": 2,
   "id": "f96e187e",
   "metadata": {},
   "outputs": [
    {
     "name": "stdout",
     "output_type": "stream",
     "text": [
      "The Toyota Camry's engine is starting.\n",
      "The Toyota Camry is now driving.\n",
      "The Harley-Davidson Sportster's engine is starting.\n",
      "The Harley-Davidson Sportster is doing a wheelie.\n"
     ]
    }
   ],
   "source": [
    "class Vehicle:\n",
    "    def __init__(self, brand, model):\n",
    "        self.brand = brand\n",
    "        self.model = model\n",
    "\n",
    "    def start_engine(self):\n",
    "        return f\"The {self.brand} {self.model}'s engine is starting.\"\n",
    "\n",
    "    def stop_engine(self):\n",
    "        return f\"The {self.brand} {self.model}'s engine is stopping.\"\n",
    "\n",
    "class Car(Vehicle):\n",
    "    def drive(self):\n",
    "        return f\"The {self.brand} {self.model} is now driving.\"\n",
    "\n",
    "class Motorcycle(Vehicle):\n",
    "    def wheelie(self):\n",
    "        return f\"The {self.brand} {self.model} is doing a wheelie.\"\n",
    "\n",
    "# Create instances of the derived classes\n",
    "car_instance = Car(\"Toyota\", \"Camry\")\n",
    "motorcycle_instance = Motorcycle(\"Harley-Davidson\", \"Sportster\")\n",
    "\n",
    "# Access attributes and call methods\n",
    "print(car_instance.start_engine())\n",
    "print(car_instance.drive())\n",
    "\n",
    "print(motorcycle_instance.start_engine())\n",
    "print(motorcycle_instance.wheelie())\n"
   ]
  },
  {
   "cell_type": "code",
   "execution_count": 11,
   "id": "91b4a861",
   "metadata": {},
   "outputs": [
    {
     "name": "stdout",
     "output_type": "stream",
     "text": [
      " hondacity hero is now running\n",
      " royal rz3 is now running\n",
      "hondacity hero is now stopped\n",
      "royal rz3 is now stopped\n",
      "hondacity hero is now in motion\n",
      "royal rz3 is now moving\n"
     ]
    }
   ],
   "source": [
    "class vec:\n",
    "    def __init__(self,make,model):\n",
    "        self.make = make\n",
    "        self.model = model\n",
    "        self.engine_status = False\n",
    "        \n",
    "    def start_engine(self):\n",
    "        if not self.engine_status:\n",
    "            self.engine_status = True\n",
    "            return f\" {self.make} {self.model} is now running\"\n",
    "        else:\n",
    "            return f\" {self.make} {self.mmodel} is alreay running\"\n",
    "    def stop_engine(self):\n",
    "        if self.engine_status:\n",
    "            self.engine_status = False\n",
    "            return f\"{self.make} {self.model} is now stopped\"\n",
    "        else:\n",
    "            return f\"{self.make} {self.model} is already stopped\"\n",
    "class car(vec):\n",
    "    def __init__(self,make,model,num_doors):\n",
    "        super().__init__(make,model)\n",
    "        self.num_doors = num_doors\n",
    "    def drive(self):\n",
    "        return f\"{self.make} {self.model} is now in motion\"\n",
    "class bike(vec):\n",
    "    def __init__(self,make,model,num_wheels):\n",
    "        super().__init__(make,model)\n",
    "        self.num_wheels = num_wheels\n",
    "    def ride(self):\n",
    "        return f\"{self.make} {self.model} is now moving\"\n",
    "\n",
    "v1 = car(\"hondacity\" , \"hero\",4)\n",
    "v2 = bike(\"royal\" , \"rz3\" , 2)\n",
    "\n",
    "print(v1.start_engine())\n",
    "print(v2.start_engine())\n",
    "print(v1.stop_engine())\n",
    "print(v2.stop_engine())\n",
    "print(v1.drive())\n",
    "print(v2.ride())"
   ]
  },
  {
   "cell_type": "code",
   "execution_count": 5,
   "id": "461ed9f7",
   "metadata": {},
   "outputs": [
    {
     "name": "stdout",
     "output_type": "stream",
     "text": [
      "toyato t1 is now starting\n",
      " lambo b1 is now stopping\n",
      " lambo b1 is now driving\n",
      " sumo s1 is now wheeling\n"
     ]
    }
   ],
   "source": [
    "class vech:\n",
    "    def __init__(self,brand,model):\n",
    "        self.brand = brand\n",
    "        self.model = model\n",
    "    def start_engine(self):\n",
    "        return f\"{self.brand} {self.model} is now starting\"\n",
    "    def stop_engine(self):\n",
    "        return f\" {self.brand} {self.model} is now stopping\"\n",
    "class car(vech):\n",
    "    def drive(self):\n",
    "        return f\" {self.brand} {self.model} is now driving\"\n",
    "class bike(vech):\n",
    "    def wheeling(self):\n",
    "        return f\" {self.brand} {self.model} is now wheeling\"\n",
    "    \n",
    "v1 = vech(\"toyato\",\"t1\")\n",
    "v2 = car(\"lambo\",\"b1\")\n",
    "v3 = bike(\"sumo\",\"s1\")\n",
    "\n",
    "print(v1.start_engine())\n",
    "print(v2.stop_engine())\n",
    "print(v2.drive())\n",
    "print(v3.wheeling())"
   ]
  },
  {
   "cell_type": "code",
   "execution_count": 12,
   "id": "969eff8e",
   "metadata": {},
   "outputs": [
    {
     "name": "stdout",
     "output_type": "stream",
     "text": [
      "Circle - Color: Red, Radius: 5, Area: 78.5\n",
      "Rectangle - Color: Blue, Length: 4, Width: 6, Area: 24\n",
      "New color of the circle: Green\n",
      "New color of the rectangle: Yellow\n"
     ]
    }
   ],
   "source": [
    "''' Create a base class Shape with attributes color and methods  to set and get the color.\n",
    "Build subclasses Circle and Rectangle with specific methods.\n",
    " '''\n",
    "\n",
    "class Shape:\n",
    "    def __init__(self, color):\n",
    "        self.color = color\n",
    "\n",
    "    def set_color(self, color):\n",
    "        self.color = color\n",
    "\n",
    "    def get_color(self):\n",
    "        return self.color\n",
    "\n",
    "\n",
    "class Circle(Shape):\n",
    "    def __init__(self, color, radius):\n",
    "        super().__init__(color)\n",
    "        self.radius = radius\n",
    "\n",
    "    def area(self):\n",
    "        return 3.14 * self.radius ** 2\n",
    "\n",
    "    def display_info(self):\n",
    "        return f\"Circle - Color: {self.color}, Radius: {self.radius}, Area: {self.area()}\"\n",
    "\n",
    "\n",
    "class Rectangle(Shape):\n",
    "    def __init__(self, color, length, width):\n",
    "        super().__init__(color)\n",
    "        self.length = length\n",
    "        self.width = width\n",
    "\n",
    "    def area(self):\n",
    "        return self.length * self.width\n",
    "\n",
    "    def display_info(self):\n",
    "        return f\"Rectangle - Color: {self.color}, Length: {self.length}, Width: {self.width}, Area: {self.area()}\"\n",
    "\n",
    "\n",
    "# Example usage:\n",
    "\n",
    "# Create instances of Circle and Rectangle\n",
    "circle = Circle(\"Red\", 5)\n",
    "rectangle = Rectangle(\"Blue\", 4, 6)\n",
    "\n",
    "# Display information about the shapes\n",
    "print(circle.display_info())\n",
    "print(rectangle.display_info())\n",
    "\n",
    "# Set and get color of the shapes\n",
    "circle.set_color(\"Green\")\n",
    "rectangle.set_color(\"Yellow\")\n",
    "\n",
    "print(f\"New color of the circle: {circle.get_color()}\")\n",
    "print(f\"New color of the rectangle: {rectangle.get_color()}\")\n",
    "\n",
    "    "
   ]
  },
  {
   "cell_type": "code",
   "execution_count": 24,
   "id": "c41b48e3",
   "metadata": {},
   "outputs": [
    {
     "name": "stdout",
     "output_type": "stream",
     "text": [
      "yellow\n",
      "5024.0\n",
      " the area of circle is 5024.0 and color is blue\n",
      "600\n",
      " the arrea of rect is 600 and color is red\n"
     ]
    }
   ],
   "source": [
    "class shape:\n",
    "    def __init__(self,color):\n",
    "        self.color = color\n",
    "    def set_c(self,color):\n",
    "        self.color = color\n",
    "    def get_c(self):\n",
    "        return self.color\n",
    "class circle(shape):\n",
    "    def __init__(self,radius,color):\n",
    "        super().__init__(color)\n",
    "        self.radius = radius\n",
    "    def area(self):\n",
    "        return 3.14*self.radius**2\n",
    "    def info_c(self):\n",
    "        return f\" the area of circle is {self.area()} and color is {self.color}\"\n",
    "class rect(shape):\n",
    "    def __init__(self,length,width,color):\n",
    "        super().__init__(color)\n",
    "        self.length = length\n",
    "        self.width = width\n",
    "    def arr(self):\n",
    "        return self.length * self.width\n",
    "    def info_r(self):\n",
    "        return f\" the arrea of rect is {self.arr()} and color is {self.color}\"\n",
    "\n",
    "g1 = shape(\"green\")\n",
    "g2 = circle(40,\"blue\")\n",
    "g3 = rect(20,30,\"red\")\n",
    "\n",
    "g1.set_c(\"yellow\") \n",
    "print(g1.get_c())\n",
    "print(g2.area())\n",
    "print(g2.info_c())\n",
    "print(g3.arr())\n",
    "print(g3.info_r())"
   ]
  },
  {
   "cell_type": "code",
   "execution_count": 26,
   "id": "c0bd5903",
   "metadata": {},
   "outputs": [
    {
     "name": "stdout",
     "output_type": "stream",
     "text": [
      "ram sounds like woofhh\n",
      "duto sounds like meoww\n"
     ]
    }
   ],
   "source": [
    "'Write a class Animal and subclasses Dog and Cat. Each should have a make_sound method.'\n",
    "class animal:\n",
    "    def __init__(self, sound, name):\n",
    "        self.sound = sound\n",
    "        self.name = name\n",
    "\n",
    "class dog(animal):\n",
    "    def dd(self):\n",
    "        return \"woofhh\"\n",
    "\n",
    "    def info_d(self):\n",
    "        return f\"{self.name} sounds like {self.dd()}\"\n",
    "\n",
    "class cat(animal):\n",
    "    def cc(self):\n",
    "        return \"meoww\"\n",
    "\n",
    "    def info_c(self):\n",
    "        return f\"{self.name} sounds like {self.cc()}\"\n",
    "\n",
    "a1 = dog(\"woofhh\", \"ram\")\n",
    "a2 = cat(\"meow\", \"duto\")\n",
    "\n",
    "print(a1.info_d())\n",
    "print(a2.info_c())\n"
   ]
  },
  {
   "cell_type": "code",
   "execution_count": 27,
   "id": "e528ab8d",
   "metadata": {},
   "outputs": [
    {
     "name": "stdout",
     "output_type": "stream",
     "text": [
      "Buddy says: Woof!\n",
      "Whiskers says: Meow!\n"
     ]
    }
   ],
   "source": [
    "class Animal:\n",
    "    def __init__(self, name):\n",
    "        self.name = name\n",
    "\n",
    "    def make_sound(self):\n",
    "        pass  # Placeholder for the make_sound method\n",
    "\n",
    "class Dog(Animal):\n",
    "    def make_sound(self):\n",
    "        return \"Woof!\"\n",
    "\n",
    "class Cat(Animal):\n",
    "    def make_sound(self):\n",
    "        return \"Meow!\"\n",
    "\n",
    "# Example usage:\n",
    "dog = Dog(\"Buddy\")\n",
    "cat = Cat(\"Whiskers\")\n",
    "\n",
    "print(f\"{dog.name} says: {dog.make_sound()}\")\n",
    "print(f\"{cat.name} says: {cat.make_sound()}\")\n"
   ]
  },
  {
   "cell_type": "code",
   "execution_count": 28,
   "id": "95de52f6",
   "metadata": {},
   "outputs": [
    {
     "name": "stdout",
     "output_type": "stream",
     "text": [
      "Manager Alice (ID: 101, Department: HR)\n",
      "Alice is assigning the task: Project planning\n",
      "Worker Bob (ID: 201, Shift: Night Shift)\n",
      "Bob completed the task: Assembly line production\n"
     ]
    }
   ],
   "source": [
    "'Build a hierarchy: Employee -> Manager and Worker, with different attributes and methods for each.'\n",
    "class Employee:\n",
    "    def __init__(self, name, employee_id):\n",
    "        self.name = name\n",
    "        self.employee_id = employee_id\n",
    "\n",
    "    def display_info(self):\n",
    "        return f\"Employee {self.name} (ID: {self.employee_id})\"\n",
    "\n",
    "class Manager(Employee):\n",
    "    def __init__(self, name, employee_id, department):\n",
    "        super().__init__(name, employee_id)\n",
    "        self.department = department\n",
    "\n",
    "    def display_info(self):\n",
    "        return f\"Manager {self.name} (ID: {self.employee_id}, Department: {self.department})\"\n",
    "\n",
    "    def assign_task(self, task):\n",
    "        return f\"{self.name} is assigning the task: {task}\"\n",
    "\n",
    "class Worker(Employee):\n",
    "    def __init__(self, name, employee_id, shift):\n",
    "        super().__init__(name, employee_id)\n",
    "        self.shift = shift\n",
    "\n",
    "    def display_info(self):\n",
    "        return f\"Worker {self.name} (ID: {self.employee_id}, Shift: {self.shift})\"\n",
    "\n",
    "    def complete_task(self, task):\n",
    "        return f\"{self.name} completed the task: {task}\"\n",
    "\n",
    "# Example usage:\n",
    "manager = Manager(\"Alice\", 101, \"HR\")\n",
    "worker = Worker(\"Bob\", 201, \"Night Shift\")\n",
    "\n",
    "print(manager.display_info())\n",
    "print(manager.assign_task(\"Project planning\"))\n",
    "\n",
    "print(worker.display_info())\n",
    "print(worker.complete_task(\"Assembly line production\"))\n",
    "\n"
   ]
  },
  {
   "cell_type": "code",
   "execution_count": 33,
   "id": "e8e7a2ae",
   "metadata": {},
   "outputs": [
    {
     "name": "stdout",
     "output_type": "stream",
     "text": [
      " swetha with employee_id of S147\n",
      "suvi is 2 years experiences with 700000 per year \n",
      "JK is 1 years experiences with 450000 per year and working as day shift\n"
     ]
    }
   ],
   "source": [
    "'Build a hierarchy: Employee -> Manager and Worker, with different attributes and methods for each.'\n",
    "class employee:\n",
    "    def __init__(self,name,em_id):\n",
    "        self.name = name\n",
    "        self.em_id = em_id\n",
    "    def info_em(self):\n",
    "        return f\" {self.name} with employee_id of {self.em_id}\"\n",
    "class manager(employee):\n",
    "    def __init__(self,name,em_id,salary,dep,experi):\n",
    "        super().__init__(name,em_id)\n",
    "        self.salary = salary\n",
    "        self.dep = dep\n",
    "        self.experi = experi\n",
    "    def info_man(self):\n",
    "        return f\"{self.name} is {self.experi} years experiences with {self.salary} per year \"\n",
    "class worker(employee):\n",
    "    def __init__(self,name,em_id,salary,dep,experi,shift):\n",
    "        super().__init__(name,em_id)\n",
    "        self.salary = salary\n",
    "        self.dep = dep\n",
    "        self.experi = experi\n",
    "        self.shift = shift\n",
    "    def info_wok(self):\n",
    "        return f\"{self.name} is {self.experi} years experiences with {self.salary} per year and working as {self.shift} shift\"\n",
    "p1 = employee(\"swetha\",\"S147\")\n",
    "p2 = manager(\"suvi\" , \"S148\" , 700000 , \"IT\",2)\n",
    "p3 = worker(\"JK\",\"S153\",450000,\"Azure\",1,\"day\")\n",
    "print(p1.info_em())\n",
    "print(p2.info_man())\n",
    "print(p3.info_wok())"
   ]
  },
  {
   "cell_type": "code",
   "execution_count": 39,
   "id": "ce861fd0",
   "metadata": {},
   "outputs": [
    {
     "name": "stdout",
     "output_type": "stream",
     "text": [
      "Area of the circle: 78.53981633974483\n",
      "Area of the triangle: 16.0\n"
     ]
    }
   ],
   "source": [
    "'Create a class Shape with a method calculate_area. Subclasses Circle and Triangle should override this method.'\n",
    "import math\n",
    "\n",
    "class Shape:\n",
    "    def calculate_area(self):\n",
    "        pass  # Placeholder for the calculate_area method\n",
    "\n",
    "class Circle(Shape):\n",
    "    def __init__(self, radius):\n",
    "        self.radius = radius\n",
    "\n",
    "    def calculate_area(self):\n",
    "        return math.pi * self.radius**2\n",
    "\n",
    "class Triangle(Shape):\n",
    "    def __init__(self, base, height):\n",
    "        self.base = base\n",
    "        self.height = height\n",
    "\n",
    "    def calculate_area(self):\n",
    "        return 0.5 * self.base * self.height\n",
    "\n",
    "# Example usage:\n",
    "circle = Circle(5)\n",
    "triangle = Triangle(4, 8)\n",
    "\n",
    "print(f\"Area of the circle: {circle.calculate_area()}\")\n",
    "print(f\"Area of the triangle: {triangle.calculate_area()}\")\n",
    "\n"
   ]
  },
  {
   "cell_type": "code",
   "execution_count": 38,
   "id": "fee9e5d4",
   "metadata": {},
   "outputs": [
    {
     "name": "stdout",
     "output_type": "stream",
     "text": [
      " the radius is 70 so area is 15386.0\n",
      " the base is 20 and height is 40 so area is 400.0\n"
     ]
    }
   ],
   "source": [
    "'Create a class Shape with a method calculate_area. Subclasses Circle and Triangle should override this method.'\n",
    "class shape:\n",
    "    def __init__(self):\n",
    "        pass\n",
    "class circle(shape):\n",
    "    def __init__(self,radius):\n",
    "        self.radius = radius\n",
    "    def area_c(self):\n",
    "        return 3.14*self.radius**2\n",
    "    def info_c(self):\n",
    "        return f\" the radius is {self.radius} so area is {self.area_c()}\"\n",
    "class triangle(shape):\n",
    "    def __init__(self,base,height):\n",
    "        self.base = base\n",
    "        self.height = height\n",
    "    def area_t(self):\n",
    "        return 0.5*self.base*self.height\n",
    "    def info_t(self):\n",
    "        return f\" the base is {self.base} and height is {self.height} so area is {self.area_t()}\"\n",
    "\n",
    "o1 = circle(70)\n",
    "o2 = triangle(20,40)\n",
    "print(o1.info_c())\n",
    "print(o2.info_t())"
   ]
  },
  {
   "cell_type": "code",
   "execution_count": 40,
   "id": "63a5e213",
   "metadata": {},
   "outputs": [
    {
     "name": "stdout",
     "output_type": "stream",
     "text": [
      "Value of private attribute: None\n",
      "Private attribute set to: 42\n",
      "Value of private attribute after setting: 42\n"
     ]
    }
   ],
   "source": [
    "'Write a class EncapsulationDemo with a private attribute and public methods to get and set its value.'\n",
    "class EncapsulationDemo:\n",
    "    def __init__(self):\n",
    "        # Private attribute with a leading double underscore\n",
    "        self.__private_attribute = None\n",
    "\n",
    "    # Getter method to access the private attribute\n",
    "    def get_private_attribute(self):\n",
    "        return self.__private_attribute\n",
    "\n",
    "    # Setter method to modify the private attribute\n",
    "    def set_private_attribute(self, value):\n",
    "        self.__private_attribute = value\n",
    "        print(f\"Private attribute set to: {value}\")\n",
    "\n",
    "# Create an instance of EncapsulationDemo\n",
    "demo_instance = EncapsulationDemo()\n",
    "\n",
    "# Try to access the private attribute directly (will result in an error)\n",
    "# print(demo_instance.__private_attribute)\n",
    "\n",
    "# Use the getter method to access the private attribute\n",
    "value = demo_instance.get_private_attribute()\n",
    "print(f\"Value of private attribute: {value}\")\n",
    "\n",
    "# Use the setter method to modify the private attribute\n",
    "demo_instance.set_private_attribute(42)\n",
    "\n",
    "# Use the getter method again to access the modified private attribute\n",
    "value_after_set = demo_instance.get_private_attribute()\n",
    "print(f\"Value of private attribute after setting: {value_after_set}\")\n"
   ]
  },
  {
   "cell_type": "code",
   "execution_count": 42,
   "id": "efb24017",
   "metadata": {},
   "outputs": [
    {
     "name": "stdout",
     "output_type": "stream",
     "text": [
      "the area of the circle is 50.26548245743669\n",
      "the area of rectangle is 40\n"
     ]
    }
   ],
   "source": [
    "'''Create an abstract class Shape with an abstract method calculate_area.\n",
    "Implement it in subclasses like Circle and Rectangle.'''\n",
    "\n",
    "from abc import ABC\n",
    "from math import pi\n",
    "class shape():\n",
    "    def __init__(self):\n",
    "        pass\n",
    "class circle(shape):\n",
    "    def __init__(self,radius):\n",
    "        self.radius = radius\n",
    "    def area_c(self):\n",
    "        return pi*self.radius**2\n",
    "    def info_c(self):\n",
    "        return f\"the area of the circle is {self.area_c()}\"\n",
    "class rect(shape):\n",
    "    def __init__(self,l,w):\n",
    "        self.l = l\n",
    "        self.w = w\n",
    "    def area_r(self):\n",
    "        return self.l*self.w\n",
    "    def info_r(self):\n",
    "        return f\"the area of rectangle is {self.area_r()}\"\n",
    "o1 = circle(4)\n",
    "o2 = rect(5,8)\n",
    "\n",
    "print(o1.info_c())\n",
    "print(o2.info_r())\n",
    "\n",
    "        "
   ]
  },
  {
   "cell_type": "code",
   "execution_count": 50,
   "id": "548edf5e",
   "metadata": {},
   "outputs": [
    {
     "name": "stdout",
     "output_type": "stream",
     "text": [
      " deposited amount is 5000 and available balances is 13300\n",
      " withdrawl amount is 2500 and available balances is 5000\n"
     ]
    }
   ],
   "source": [
    "'''Build a class BankAccount with private attributes account_number and balance.\n",
    "Provide public methods to deposit and withdraw money.'''\n",
    "\n",
    "class bankaccount:\n",
    "    def __init__(self,acc_num,bal):\n",
    "        self.acc_num = acc_num\n",
    "        self.bal = bal\n",
    "class deposit(bankaccount):\n",
    "    def __init__(self,acc_num,bal,deposit):\n",
    "        super().__init__(acc_num,bal)\n",
    "        self.deposit = deposit\n",
    "    def add_dep(self):\n",
    "        self.bal += self.deposit\n",
    "    def info_d(self):\n",
    "        return f\" deposited amount is {self.deposit} and available balances is {self.bal}\"\n",
    "class withdraw(bankaccount):\n",
    "    def __init__(self,acc_num,bal,withd):\n",
    "        super().__init__(acc_num,bal)\n",
    "        self.withd = withd\n",
    "    def min_withd(self):\n",
    "        self.bal -= self.withd\n",
    "    def info_w(self):\n",
    "        return f\" withdrawl amount is {self.withd} and available balances is {self.bal}\"\n",
    "q1 = deposit(201901147,8300,5000)\n",
    "q2 = withdraw(201901133,7500,2500)\n",
    "q1.add_dep()\n",
    "q2.min_withd()\n",
    "print(q1.info_d())\n",
    "print(q2.info_w())\n",
    "    \n",
    "        \n",
    "    "
   ]
  },
  {
   "cell_type": "code",
   "execution_count": 51,
   "id": "20ef2944",
   "metadata": {},
   "outputs": [
    {
     "name": "stdout",
     "output_type": "stream",
     "text": [
      "Deposited $500.0. New balance: $1500.0\n",
      "Withdrew $200.0. New balance: $1300.0\n",
      "Account Number: 123456789, Balance: $1300.0\n"
     ]
    }
   ],
   "source": [
    "class BankAccount:\n",
    "    def __init__(self, account_number, initial_balance=0.0):\n",
    "        self.__account_number = account_number\n",
    "        self.__balance = initial_balance\n",
    "\n",
    "    def deposit(self, amount):\n",
    "        if amount > 0:\n",
    "            self.__balance += amount\n",
    "            print(f\"Deposited ${amount}. New balance: ${self.__balance}\")\n",
    "        else:\n",
    "            print(\"Invalid deposit amount. Please deposit a positive amount.\")\n",
    "\n",
    "    def withdraw(self, amount):\n",
    "        if 0 < amount <= self.__balance:\n",
    "            self.__balance -= amount\n",
    "            print(f\"Withdrew ${amount}. New balance: ${self.__balance}\")\n",
    "        elif amount > self.__balance:\n",
    "            print(\"Insufficient funds. Withdrawal not possible.\")\n",
    "        else:\n",
    "            print(\"Invalid withdrawal amount. Please withdraw a positive amount.\")\n",
    "\n",
    "    def get_balance(self):\n",
    "        return self.__balance\n",
    "\n",
    "    def get_account_number(self):\n",
    "        return self.__account_number\n",
    "\n",
    "# Example usage:\n",
    "account = BankAccount(account_number=\"123456789\", initial_balance=1000.0)\n",
    "\n",
    "# Deposit money\n",
    "account.deposit(500.0)\n",
    "\n",
    "# Withdraw money\n",
    "account.withdraw(200.0)\n",
    "\n",
    "# Get balance and account number\n",
    "balance = account.get_balance()\n",
    "account_number = account.get_account_number()\n",
    "\n",
    "print(f\"Account Number: {account_number}, Balance: ${balance}\")\n"
   ]
  },
  {
   "cell_type": "code",
   "execution_count": 9,
   "id": "d200b431",
   "metadata": {},
   "outputs": [
    {
     "name": "stdout",
     "output_type": "stream",
     "text": [
      "Name: John, Age: 30\n",
      "Updated Name: John, Updated Age: 30\n"
     ]
    }
   ],
   "source": [
    "'Write a class Person with private attributes name and age. Provide public methods to access and update these attributes'\n",
    "class Person:\n",
    "    def __init__(self, name, age):\n",
    "        self.__name = name\n",
    "        self.__age = age\n",
    "\n",
    "    def get_name(self):\n",
    "        return self.__name\n",
    "\n",
    "    def get_age(self):\n",
    "        return self.__age\n",
    "\n",
    "    def set_name(self, new_name):\n",
    "        self.name = new_name\n",
    "\n",
    "    def set_age(self, new_age):\n",
    "        if new_age >= 0:\n",
    "            self.age = new_age\n",
    "        else:\n",
    "            print(\"Invalid age. Age must be a non-negative value.\")\n",
    "\n",
    "# Example usage:\n",
    "person = Person(name=\"John\", age=30)\n",
    "\n",
    "# Access private attributes using getter methods\n",
    "print(f\"Name: {person.get_name()}, Age: {person.get_age()}\")\n",
    "\n",
    "# Update attributes using setter methods\n",
    "person.set_name(\"Jane\")\n",
    "person.set_age(35)\n",
    "\n",
    "# Access updated attributes\n",
    "print(f\"Updated Name: {person.get_name()}, Updated Age: {person.get_age()}\")\n",
    "\n",
    "    "
   ]
  },
  {
   "cell_type": "code",
   "execution_count": 11,
   "id": "d10ced37",
   "metadata": {},
   "outputs": [
    {
     "name": "stdout",
     "output_type": "stream",
     "text": [
      "suvi\n",
      "33\n",
      "Updated name is Swetha_JK and age is 22\n"
     ]
    }
   ],
   "source": [
    "class Person:\n",
    "    def __init__(self, name, age):\n",
    "        self.name = name\n",
    "        self.age = age\n",
    "\n",
    "    def get_name(self):\n",
    "        return self.name\n",
    "\n",
    "    def get_age(self):\n",
    "        return self.age\n",
    "\n",
    "    def set_name(self, new_name):\n",
    "        self.name = new_name\n",
    "\n",
    "    def set_age(self, new_age):\n",
    "        if new_age >= 0:\n",
    "            self.age = new_age\n",
    "        else:\n",
    "            print(\"Enter a valid number\")\n",
    "\n",
    "# Creating instances of the Person class\n",
    "p1 = Person(\"suvi\", 33)\n",
    "p2 = Person(\"sow\", 33)\n",
    "\n",
    "# Accessing and printing attributes\n",
    "print(p1.get_name())\n",
    "print(p2.get_age())\n",
    "\n",
    "# Updating attributes\n",
    "p1.set_name(\"Swetha_JK\")\n",
    "p2.set_age(22)\n",
    "\n",
    "# Accessing and printing updated attributes\n",
    "print(f\"Updated name is {p1.get_name()} and age is {p2.get_age()}\")\n"
   ]
  },
  {
   "cell_type": "code",
   "execution_count": 8,
   "id": "84ff2a20",
   "metadata": {},
   "outputs": [
    {
     "name": "stdout",
     "output_type": "stream",
     "text": [
      "Playing the guitar\n",
      "Playing the piano\n"
     ]
    }
   ],
   "source": [
    "'Create an interface Playable with a method play. Implement it in classes like Guitar and Piano.'\n",
    "from abc import ABC, abstractmethod\n",
    "\n",
    "# Define the Playable interface\n",
    "class Playable(ABC):\n",
    "    @abstractmethod\n",
    "    def play(self):\n",
    "        pass\n",
    "\n",
    "# Implement the Playable interface in the Guitar class\n",
    "class Guitar(Playable):\n",
    "    def play(self):\n",
    "        print(\"Playing the guitar\")\n",
    "\n",
    "# Implement the Playable interface in the Piano class\n",
    "class Piano(Playable):\n",
    "    def play(self):\n",
    "        print(\"Playing the piano\")\n",
    "\n",
    "# Create instances and demonstrate the usage\n",
    "guitar = Guitar()\n",
    "piano = Piano()\n",
    "\n",
    "guitar.play()  # Output: Playing the guitar\n",
    "piano.play()   # Output: Playing the piano\n"
   ]
  },
  {
   "cell_type": "code",
   "execution_count": 12,
   "id": "e98c19c6",
   "metadata": {},
   "outputs": [
    {
     "name": "stdout",
     "output_type": "stream",
     "text": [
      " name is swetha and roll number is 147\n",
      " name is sow and roll number is 134\n"
     ]
    }
   ],
   "source": [
    "'Build a class Student with a constructor that initializes attributes name and roll_number.'\n",
    "class student:\n",
    "    def __init__(self,name,roll_num):\n",
    "        self.name = name\n",
    "        self.roll_num = roll_num\n",
    "    def info(self):\n",
    "        return f\" name is {self.name} and roll number is {self.roll_num}\"\n",
    "\n",
    "q1 = student(\"swetha\",147)\n",
    "q2 = student(\"sow\",134)\n",
    "print(q1.info())\n",
    "print(q2.info())"
   ]
  },
  {
   "cell_type": "code",
   "execution_count": 13,
   "id": "86f9ae05",
   "metadata": {},
   "outputs": [
    {
     "name": "stdout",
     "output_type": "stream",
     "text": [
      "Car: Toyota Camry\n",
      "The car (Toyota Camry) has been destroyed.\n"
     ]
    }
   ],
   "source": [
    "'Create a class Car with a destructor that prints a message when the object is destroyed.'\n",
    "class Car:\n",
    "    def __init__(self, make, model):\n",
    "        self.make = make\n",
    "        self.model = model\n",
    "\n",
    "    def display_info(self):\n",
    "        print(f\"Car: {self.make} {self.model}\")\n",
    "\n",
    "    def __del__(self):\n",
    "        print(f\"The car ({self.make} {self.model}) has been destroyed.\")\n",
    "\n",
    "# Creating an instance of the Car class\n",
    "my_car = Car(\"Toyota\", \"Camry\")\n",
    "\n",
    "# Accessing and displaying information\n",
    "my_car.display_info()\n",
    "\n",
    "# Explicitly deleting the reference to the object\n",
    "del my_car\n",
    "\n",
    "# The destructor will be called when the object is destroyed (typically when the program exits)\n"
   ]
  },
  {
   "cell_type": "code",
   "execution_count": 17,
   "id": "2aa20c6b",
   "metadata": {},
   "outputs": [
    {
     "name": "stdout",
     "output_type": "stream",
     "text": [
      " the car brand is BMW and model is mini\n"
     ]
    },
    {
     "ename": "NameError",
     "evalue": "name 'c2' is not defined",
     "output_type": "error",
     "traceback": [
      "\u001b[1;31m---------------------------------------------------------------------------\u001b[0m",
      "\u001b[1;31mNameError\u001b[0m                                 Traceback (most recent call last)",
      "Cell \u001b[1;32mIn[17], line 13\u001b[0m\n\u001b[0;32m     11\u001b[0m \u001b[38;5;28mprint\u001b[39m(c1\u001b[38;5;241m.\u001b[39minfo())\n\u001b[0;32m     12\u001b[0m \u001b[38;5;28;01mdel\u001b[39;00m c2\n\u001b[1;32m---> 13\u001b[0m \u001b[38;5;28mprint\u001b[39m(c2\u001b[38;5;241m.\u001b[39m\u001b[38;5;21m__del__\u001b[39m())\n",
      "\u001b[1;31mNameError\u001b[0m: name 'c2' is not defined"
     ]
    }
   ],
   "source": [
    "class car:\n",
    "    def __init__(self,brand,model):\n",
    "        self.brand = brand\n",
    "        self.model = model\n",
    "    def info(self):\n",
    "        return f\" the car brand is {self.brand} and model is {self.model}\"\n",
    "    def __del__(self):\n",
    "        return f\" the car brand is {self.brand} and model is {self.model} has been destroyed.\"\n",
    "c1 = car(\"BMW\",\"mini\")\n",
    "c2 = car(\"tesla\",\"large\")\n",
    "print(c1.info())\n",
    "del c2\n",
    "print(c2.__del__()) # shows error because c2 is deleted "
   ]
  },
  {
   "cell_type": "code",
   "execution_count": 18,
   "id": "b9a84258",
   "metadata": {},
   "outputs": [
    {
     "name": "stdout",
     "output_type": "stream",
     "text": [
      "Person: Name - John Doe, Age - 25\n"
     ]
    }
   ],
   "source": [
    "'Build a class Person with a constructor that sets attributes name and age. Use the destructor to print a farewell message.'\n",
    "class Person:\n",
    "    def __init__(self, name, age):\n",
    "        self.name = name\n",
    "        self.age = age\n",
    "\n",
    "    def display_info(self):\n",
    "        print(f\"Person: Name - {self.name}, Age - {self.age}\")\n",
    "\n",
    "    def __del__(self):\n",
    "        print(f\"Goodbye! {self.name} has left.\")\n",
    "\n",
    "# Creating an instance of the Person class\n",
    "person = Person(\"John Doe\", 25)\n",
    "\n",
    "# Displaying information\n",
    "person.display_info()\n",
    "\n",
    "# The destructor will be automatically called when the program exits or when the reference to the object is deleted\n"
   ]
  },
  {
   "cell_type": "code",
   "execution_count": 19,
   "id": "34c65625",
   "metadata": {},
   "outputs": [
    {
     "name": "stdout",
     "output_type": "stream",
     "text": [
      "Product Name: Laptop\n",
      "Price: $1200.0\n",
      "Quantity: 5\n"
     ]
    }
   ],
   "source": [
    "'Write a class Product with a constructor that initializes attributes name, price, and quantity.'\n",
    "class Product:\n",
    "    def __init__(self, name, price, quantity):\n",
    "        self.name = name\n",
    "        self.price = price\n",
    "        self.quantity = quantity\n",
    "\n",
    "# Creating an instance of the Product class\n",
    "product1 = Product(\"Laptop\", 1200.0, 5)\n",
    "\n",
    "# Accessing attributes\n",
    "print(f\"Product Name: {product1.name}\")\n",
    "print(f\"Price: ${product1.price}\")\n",
    "print(f\"Quantity: {product1.quantity}\")\n"
   ]
  },
  {
   "cell_type": "code",
   "execution_count": 21,
   "id": "6b5a7f2d",
   "metadata": {},
   "outputs": [
    {
     "name": "stdout",
     "output_type": "stream",
     "text": [
      "woof\n",
      "meow\n"
     ]
    }
   ],
   "source": [
    "'Create a class Animal with a method speak. Override it in subclasses Dog and Cat.'\n",
    "class animal:\n",
    "    def speak(self):\n",
    "        pass\n",
    "class dog(animal):\n",
    "    def speak(self):\n",
    "        return f\"woof\"\n",
    "class cat(animal):\n",
    "    def speak(self):\n",
    "        return f\"meow\"\n",
    "d1 = dog()\n",
    "c1 = cat()\n",
    "print(d1.speak())\n",
    "print(c1.speak())\n",
    "        "
   ]
  },
  {
   "cell_type": "code",
   "execution_count": 22,
   "id": "99c7f75e",
   "metadata": {},
   "outputs": [
    {
     "name": "stdout",
     "output_type": "stream",
     "text": [
      "Woof!\n",
      "Meow!\n"
     ]
    }
   ],
   "source": [
    "class Animal:\n",
    "    def speak(self):\n",
    "        pass  # This method will be overridden in the subclasses\n",
    "\n",
    "class Dog(Animal):\n",
    "    def speak(self):\n",
    "        return \"Woof!\"\n",
    "\n",
    "class Cat(Animal):\n",
    "    def speak(self):\n",
    "        return \"Meow!\"\n",
    "\n",
    "# Creating instances of the subclasses\n",
    "dog = Dog()\n",
    "cat = Cat()\n",
    "\n",
    "# Calling the speak method for each instance\n",
    "print(dog.speak())  # Output: Woof!\n",
    "print(cat.speak())  # Output: Meow!\n"
   ]
  },
  {
   "cell_type": "code",
   "execution_count": 23,
   "id": "93f5220f",
   "metadata": {},
   "outputs": [
    {
     "name": "stdout",
     "output_type": "stream",
     "text": [
      "Drawing a generic shape\n",
      "Drawing a shape with color red\n",
      "Drawing a shape with size 10\n"
     ]
    }
   ],
   "source": [
    "'Write a class Shape with a method draw. Overload it to accept different parameters like color or size.'\n",
    "class Shape:\n",
    "    def draw(self):\n",
    "        return \"Drawing a generic shape\"\n",
    "\n",
    "    def draw_with_color(self, color):\n",
    "        return f\"Drawing a shape with color {color}\"\n",
    "\n",
    "    def draw_with_size(self, size):\n",
    "        return f\"Drawing a shape with size {size}\"\n",
    "\n",
    "# Creating an instance of the Shape class\n",
    "shape = Shape()\n",
    "\n",
    "# Calling the draw method with different overloads\n",
    "print(shape.draw())                   # Output: Drawing a generic shape\n",
    "print(shape.draw_with_color(\"red\"))   # Output: Drawing a shape with color red\n",
    "print(shape.draw_with_size(10))        # Output: Drawing a shape with size 10\n"
   ]
  },
  {
   "cell_type": "code",
   "execution_count": 29,
   "id": "e8ca160c",
   "metadata": {},
   "outputs": [
    {
     "name": "stdout",
     "output_type": "stream",
     "text": [
      "16\n",
      "-9\n",
      "15\n",
      "0.7777777777777778\n"
     ]
    }
   ],
   "source": [
    "'''Build a class MathOperations with methods for addition, subtraction, multiplication, and division.\n",
    "Use method overloading to handle different argument counts.'''\n",
    "class op:\n",
    "    def __init__(self,a,b,c=None):\n",
    "        self.a = a\n",
    "        self.b = b\n",
    "        self.c = c\n",
    "    def add(self):\n",
    "        return self.a+self.b+(self.c or 0)\n",
    "    def sub(self):\n",
    "        return (self.c or 0 )-self.b\n",
    "    def mul(self):\n",
    "        return self.a*(self.c or 0)\n",
    "    def div(self):\n",
    "        return self.a/self.b\n",
    "q1 = op(5,8,3)\n",
    "q2 = op(7,9)\n",
    "print(q1.add())\n",
    "print(q2.sub())\n",
    "print(q1.mul())\n",
    "print(q2.div())\n",
    "    "
   ]
  },
  {
   "cell_type": "code",
   "execution_count": 25,
   "id": "a1a61e9f",
   "metadata": {},
   "outputs": [
    {
     "name": "stdout",
     "output_type": "stream",
     "text": [
      "Addition: 9\n",
      "Subtraction: 5\n",
      "Multiplication: 24\n",
      "Division: 10.0\n"
     ]
    }
   ],
   "source": [
    "class MathOperations:\n",
    "    def add(self, *args):\n",
    "        return sum(args)\n",
    "\n",
    "    def subtract(self, *args):\n",
    "        result = args[0] if args else 0\n",
    "        for num in args[1:]:\n",
    "            result -= num\n",
    "        return result\n",
    "\n",
    "    def multiply(self, *args):\n",
    "        result = 1\n",
    "        for num in args:\n",
    "            result *= num\n",
    "        return result\n",
    "\n",
    "    def divide(self, *args):\n",
    "        if not args:\n",
    "            return \"Error: Division requires at least one argument\"\n",
    "        result = args[0]\n",
    "        for num in args[1:]:\n",
    "            if num == 0:\n",
    "                return \"Error: Division by zero\"\n",
    "            result /= num\n",
    "        return result\n",
    "\n",
    "# Creating an instance of the MathOperations class\n",
    "calculator = MathOperations()\n",
    "\n",
    "# Testing the methods with different argument counts\n",
    "print(\"Addition:\", calculator.add(2, 3, 4))           # Output: 9\n",
    "print(\"Subtraction:\", calculator.subtract(10, 2, 3))   # Output: 5\n",
    "print(\"Multiplication:\", calculator.multiply(2, 3, 4))  # Output: 24\n",
    "print(\"Division:\", calculator.divide(100, 2, 5))        # Output: 10.0\n"
   ]
  },
  {
   "cell_type": "code",
   "execution_count": 27,
   "id": "c381280e",
   "metadata": {},
   "outputs": [
    {
     "name": "stdout",
     "output_type": "stream",
     "text": [
      "Addition: 9\n",
      "Subtraction: 5\n",
      "Multiplication: 24\n",
      "Division: 10.0\n"
     ]
    }
   ],
   "source": [
    "class MathOperations:\n",
    "    def add(self, a=0, b=0, c=0):\n",
    "        return a + b + c\n",
    "\n",
    "    def subtract(self, a=0, b=0, c=0):\n",
    "        return a - b - c\n",
    "\n",
    "    def multiply(self, a=1, b=1, c=1):\n",
    "        return a * b * c\n",
    "\n",
    "    def divide(self, a=0, b=1, c=1):\n",
    "        if b == 0 or c == 0:\n",
    "            return \"Error: Division by zero\"\n",
    "        return a / b / c\n",
    "\n",
    "# Creating an instance of the MathOperations class\n",
    "calculator = MathOperations()\n",
    "\n",
    "# Testing the methods with different argument counts\n",
    "print(\"Addition:\", calculator.add(2, 3, 4))           # Output: 9\n",
    "print(\"Subtraction:\", calculator.subtract(10, 2, 3))   # Output: 5\n",
    "print(\"Multiplication:\", calculator.multiply(2, 3, 4))  # Output: 24\n",
    "print(\"Division:\", calculator.divide(100, 2, 5))        # Output: 10.0\n"
   ]
  },
  {
   "cell_type": "code",
   "execution_count": 30,
   "id": "43a779e2",
   "metadata": {},
   "outputs": [
    {
     "name": "stdout",
     "output_type": "stream",
     "text": [
      "Generic engine starting...\n",
      "Car engine starting...\n",
      "Motorcycle engine starting...\n",
      "Truck engine starting...\n"
     ]
    }
   ],
   "source": [
    "'Create a class Vehicle with a method start_engine. Overload it to handle various types of vehicles.'\n",
    "class Vehicle:\n",
    "    def start_engine(self):\n",
    "        return \"Generic engine starting...\"\n",
    "\n",
    "class Car(Vehicle):\n",
    "    def start_engine(self):\n",
    "        return \"Car engine starting...\"\n",
    "\n",
    "class Motorcycle(Vehicle):\n",
    "    def start_engine(self):\n",
    "        return \"Motorcycle engine starting...\"\n",
    "\n",
    "class Truck(Vehicle):\n",
    "    def start_engine(self):\n",
    "        return \"Truck engine starting...\"\n",
    "\n",
    "# Creating instances of the Vehicle and its subclasses\n",
    "generic_vehicle = Vehicle()\n",
    "car = Car()\n",
    "motorcycle = Motorcycle()\n",
    "truck = Truck()\n",
    "\n",
    "# Testing the start_engine method for each type of vehicle\n",
    "print(generic_vehicle.start_engine())  # Output: Generic engine starting...\n",
    "print(car.start_engine())               # Output: Car engine starting...\n",
    "print(motorcycle.start_engine())        # Output: Motorcycle engine starting...\n",
    "print(truck.start_engine())             # Output: Truck engine starting...\n"
   ]
  },
  {
   "cell_type": "code",
   "execution_count": 31,
   "id": "983c7101",
   "metadata": {},
   "outputs": [
    {
     "name": "stdout",
     "output_type": "stream",
     "text": [
      "Result 1: 5\n",
      "Result 2: 20\n"
     ]
    }
   ],
   "source": [
    "'Write a class Calculator with a method add that can accept two or three arguments. Use method overloading.'\n",
    "class Calculator:\n",
    "    def add(self, a, b, c=None):\n",
    "        if c is not None:\n",
    "            return a + b + c\n",
    "        else:\n",
    "            return a + b\n",
    "\n",
    "# Creating an instance of the Calculator class\n",
    "calculator = Calculator()\n",
    "\n",
    "# Testing the add method with different argument counts\n",
    "result1 = calculator.add(2, 3)\n",
    "result2 = calculator.add(5, 7, 8)\n",
    "\n",
    "print(\"Result 1:\", result1)  # Output: 5\n",
    "print(\"Result 2:\", result2)  # Output: 20\n"
   ]
  },
  {
   "cell_type": "code",
   "execution_count": 1,
   "id": "d3367bbe",
   "metadata": {},
   "outputs": [
    {
     "name": "stdout",
     "output_type": "stream",
     "text": [
      "The square of 5 is: 25\n"
     ]
    }
   ],
   "source": [
    "# static and class method:\n",
    "'Build a class MathUtility with a static method square that calculates the square of a number.'\n",
    "class MathUtility:\n",
    "    @staticmethod\n",
    "    def square(number):\n",
    "        return number ** 2\n",
    "\n",
    "# Example usage:\n",
    "result = MathUtility.square(5)\n",
    "print(f\"The square of 5 is: {result}\")\n"
   ]
  },
  {
   "cell_type": "code",
   "execution_count": 4,
   "id": "87c5adea",
   "metadata": {},
   "outputs": [
    {
     "name": "stdout",
     "output_type": "stream",
     "text": [
      "25\n"
     ]
    }
   ],
   "source": [
    "class mat:\n",
    "    @staticmethod\n",
    "    def square(num):\n",
    "        return num**2\n",
    "q1 = mat.square(5)\n",
    "print(q1)"
   ]
  },
  {
   "cell_type": "code",
   "execution_count": 5,
   "id": "d3ceaac2",
   "metadata": {},
   "outputs": [
    {
     "name": "stdout",
     "output_type": "stream",
     "text": [
      "Equivalent amount in USD: $118.00\n"
     ]
    }
   ],
   "source": [
    "'Create a class CurrencyConverter with a class method convert that converts between two currencies.'\n",
    "class CurrencyConverter:\n",
    "    exchange_rate = 1.18  # Example exchange rate (EUR to USD)\n",
    "\n",
    "    @staticmethod\n",
    "    def convert_eur_to_usd(amount):\n",
    "        return amount * CurrencyConverter.exchange_rate\n",
    "\n",
    "# Using the static method without creating an instance\n",
    "usd_amount = CurrencyConverter.convert_eur_to_usd(100)\n",
    "print(f\"Equivalent amount in USD: ${usd_amount:.2f}\")  # Output: $118.00\n"
   ]
  },
  {
   "cell_type": "code",
   "execution_count": 8,
   "id": "1c8e475c",
   "metadata": {},
   "outputs": [
    {
     "name": "stdout",
     "output_type": "stream",
     "text": [
      "ahtews\n"
     ]
    }
   ],
   "source": [
    "'Write a class StringUtil with a static method reverse that reverses a string.'\n",
    "class st:\n",
    "    @staticmethod\n",
    "    def stri(s):\n",
    "        return s[::-1]\n",
    "s1 = st.stri(\"swetha\")\n",
    "print(s1)"
   ]
  },
  {
   "cell_type": "code",
   "execution_count": 9,
   "id": "535c4b86",
   "metadata": {},
   "outputs": [
    {
     "name": "stdout",
     "output_type": "stream",
     "text": [
      "Reversed string: ahtews\n"
     ]
    }
   ],
   "source": [
    "class StringUtil:\n",
    "    @staticmethod\n",
    "    def reverse(s):\n",
    "        return s[::-1]\n",
    "\n",
    "# Using the static method without creating an instance\n",
    "reversed_string = StringUtil.reverse(\"swetha\")\n",
    "print(\"Reversed string:\", reversed_string)  # Output: ahtews\n"
   ]
  },
  {
   "cell_type": "code",
   "execution_count": 10,
   "id": "f74ae916",
   "metadata": {},
   "outputs": [
    {
     "name": "stdout",
     "output_type": "stream",
     "text": [
      "Employee Name: John Doe\n",
      "Salary: $50000\n",
      "Bonus Amount: $5000.0\n"
     ]
    }
   ],
   "source": [
    "'Build a class Employee with a class method calculate_bonus that calculates the bonus based on the employee salary.'\n",
    "class Employee:\n",
    "    bonus_percentage = 10  # Class variable representing bonus percentage\n",
    "\n",
    "    def __init__(self, name, salary):\n",
    "        self.name = name\n",
    "        self.salary = salary\n",
    "\n",
    "    def display_info(self):\n",
    "        print(f\"Employee Name: {self.name}\")\n",
    "        print(f\"Salary: ${self.salary}\")\n",
    "\n",
    "    @classmethod\n",
    "    def calculate_bonus(cls, salary):\n",
    "        bonus_amount = (cls.bonus_percentage / 100) * salary\n",
    "        return bonus_amount\n",
    "\n",
    "# Example usage:\n",
    "employee1 = Employee(\"John Doe\", 50000)\n",
    "employee1.display_info()\n",
    "\n",
    "# Calculate and display bonus using the class method\n",
    "bonus_amount = Employee.calculate_bonus(employee1.salary)\n",
    "print(f\"Bonus Amount: ${bonus_amount}\")\n"
   ]
  },
  {
   "cell_type": "code",
   "execution_count": 14,
   "id": "507426ba",
   "metadata": {},
   "outputs": [
    {
     "name": "stdout",
     "output_type": "stream",
     "text": [
      " the em_id is 147 and their salary is 1500000\n",
      " the em_id is 134 and their salary is 100000\n",
      "the bonus amount e1 is :  the bonus amount is 150000.0\n",
      "the bonus amount e3 is :  the bonus amount is 50000.0\n"
     ]
    }
   ],
   "source": [
    "class employee:\n",
    "    bonus = 10\n",
    "    def __init__(self,em_id,salary):\n",
    "        self.em_id = em_id\n",
    "        self.salary = salary\n",
    "    def info(self):\n",
    "        return f\" the em_id is {self.em_id} and their salary is {self.salary}\"\n",
    "    @classmethod\n",
    "    def cal(cls,salary):\n",
    "        bonus_salary = (cls.bonus/100)*salary\n",
    "        return f\" the bonus amount is {bonus_salary}\"\n",
    "e1 = employee(147,1500000)\n",
    "e2 = employee(134,100000)\n",
    "e3 = employee(111,500000)\n",
    "\n",
    "print(e1.info())\n",
    "print(e2.info())\n",
    "bonus_amount = employee.cal(e1.salary)\n",
    "print(\"the bonus amount e1 is :\",bonus_amount)\n",
    "bonus_amount = employee.cal(e3.salary)\n",
    "print(\"the bonus amount e3 is :\",bonus_amount)"
   ]
  },
  {
   "cell_type": "code",
   "execution_count": 15,
   "id": "fd5f8a33",
   "metadata": {},
   "outputs": [
    {
     "name": "stdout",
     "output_type": "stream",
     "text": [
      "The current time is: 11:20:56\n"
     ]
    }
   ],
   "source": [
    "'Create a class TimeUtility with a class method get_current_time that returns the current time.'\n",
    "from datetime import datetime\n",
    "\n",
    "class TimeUtility:\n",
    "    @classmethod\n",
    "    def get_current_time(cls):\n",
    "        current_time = datetime.now().strftime(\"%H:%M:%S\")\n",
    "        return current_time\n",
    "\n",
    "# Example usage:\n",
    "current_time = TimeUtility.get_current_time()\n",
    "print(f\"The current time is: {current_time}\")\n"
   ]
  },
  {
   "cell_type": "code",
   "execution_count": 17,
   "id": "d93b3854",
   "metadata": {},
   "outputs": [
    {
     "name": "stdout",
     "output_type": "stream",
     "text": [
      " author is swetha\n",
      " the love is written by  nivee\n"
     ]
    }
   ],
   "source": [
    "'Write a class Author and a class Book that contains an instance of Author.'\n",
    "class author:\n",
    "    def __init__(self,name):\n",
    "        self.name = name\n",
    "    def info_a(self):\n",
    "        return f\" author is {self.name}\"\n",
    "class book:\n",
    "    def __init__(self,title,author):\n",
    "        self.title = title\n",
    "        self.author = author\n",
    "    def info_b(self):\n",
    "        return f\" the {self.title} is written by  {self.author}\"\n",
    "p1 = author(\"swetha\")\n",
    "p2 = book(\"love\",\"nivee\")\n",
    "print(p1.info_a())\n",
    "print(p2.info_b())"
   ]
  },
  {
   "cell_type": "code",
   "execution_count": 18,
   "id": "40515114",
   "metadata": {},
   "outputs": [
    {
     "name": "stdout",
     "output_type": "stream",
     "text": [
      "Book: Introduction to Python\n",
      "Author: John Doe\n"
     ]
    }
   ],
   "source": [
    "class Author:\n",
    "    def __init__(self, name):\n",
    "        self.name = name\n",
    "\n",
    "    def __str__(self):\n",
    "        return f\"Author: {self.name}\"\n",
    "\n",
    "class Book:\n",
    "    def __init__(self, title, author):\n",
    "        self.title = title\n",
    "        self.author = author\n",
    "\n",
    "    def __str__(self):\n",
    "        return f\"Book: {self.title}\\n{self.author}\"\n",
    "\n",
    "# Example usage:\n",
    "author = Author(\"John Doe\")\n",
    "book = Book(\"Introduction to Python\", author)\n",
    "\n",
    "# Print information about the book and its author\n",
    "print(book)\n"
   ]
  },
  {
   "cell_type": "code",
   "execution_count": 19,
   "id": "a6be86a2",
   "metadata": {},
   "outputs": [
    {
     "name": "stdout",
     "output_type": "stream",
     "text": [
      "Employee: John Doe\n",
      "Salary: $60000\n",
      "Department: Engineering\n"
     ]
    }
   ],
   "source": [
    "'Build a class Department and a class Employee that contains an instance of Department.'\n",
    "class Department:\n",
    "    def __init__(self, name):\n",
    "        self.name = name\n",
    "\n",
    "    def __str__(self):\n",
    "        return f\"Department: {self.name}\"\n",
    "\n",
    "class Employee:\n",
    "    def __init__(self, name, salary, department):\n",
    "        self.name = name\n",
    "        self.salary = salary\n",
    "        self.department = department\n",
    "\n",
    "    def __str__(self):\n",
    "        return f\"Employee: {self.name}\\nSalary: ${self.salary}\\n{self.department}\"\n",
    "\n",
    "# Example usage:\n",
    "department = Department(\"Engineering\")\n",
    "employee = Employee(\"John Doe\", 60000, department)\n",
    "\n",
    "# Print information about the employee and their department\n",
    "print(employee)\n"
   ]
  },
  {
   "cell_type": "code",
   "execution_count": 25,
   "id": "130dfadc",
   "metadata": {},
   "outputs": [
    {
     "name": "stdout",
     "output_type": "stream",
     "text": [
      " department is B.E.CSE\n",
      " employee swetha and salary is 800000 , department is  department is B.E.CSE\n"
     ]
    }
   ],
   "source": [
    "class dep:\n",
    "    def __init__(self,name):\n",
    "        self.name =name\n",
    "    def __str__(self):\n",
    "        return f\" department is {self.name}\"\n",
    "class employee:\n",
    "    def __init__(self,name,salary,department):\n",
    "        self.name = name\n",
    "        self.salary = salary\n",
    "        self.department =  department\n",
    "    def __str__(self):\n",
    "        return f\" employee {self.name} and salary is {self.salary} , department is {self.department}\"\n",
    "p1 = dep(\"B.E.CSE\")\n",
    "p2 = employee(\"swetha\",\"800000\",p1)\n",
    "print(p1)\n",
    "print(p2)"
   ]
  },
  {
   "cell_type": "code",
   "execution_count": 26,
   "id": "014294ac",
   "metadata": {},
   "outputs": [
    {
     "name": "stdout",
     "output_type": "stream",
     "text": [
      "Books in the City Library Library:\n",
      "Book: Introduction to Python by John Doe\n",
      "Book: Data Science for Beginners by Jane Smith\n"
     ]
    }
   ],
   "source": [
    "'Create a class Library and a class Book that contains a list of Book objects.'\n",
    "class Book:\n",
    "    def __init__(self, title, author):\n",
    "        self.title = title\n",
    "        self.author = author\n",
    "\n",
    "    def __str__(self):\n",
    "        return f\"Book: {self.title} by {self.author}\"\n",
    "\n",
    "class Library:\n",
    "    def __init__(self, name):\n",
    "        self.name = name\n",
    "        self.books = []  # List to store Book objects\n",
    "\n",
    "    def add_book(self, book):\n",
    "        self.books.append(book)\n",
    "\n",
    "    def display_books(self):\n",
    "        print(f\"Books in the {self.name} Library:\")\n",
    "        for book in self.books:\n",
    "            print(book)\n",
    "\n",
    "# Example usage:\n",
    "library = Library(\"City Library\")\n",
    "\n",
    "book1 = Book(\"Introduction to Python\", \"John Doe\")\n",
    "book2 = Book(\"Data Science for Beginners\", \"Jane Smith\")\n",
    "\n",
    "library.add_book(book1)\n",
    "library.add_book(book2)\n",
    "\n",
    "library.display_books()\n"
   ]
  },
  {
   "cell_type": "code",
   "execution_count": 27,
   "id": "95820337",
   "metadata": {},
   "outputs": [
    {
     "name": "stdout",
     "output_type": "stream",
     "text": [
      "Students in High School School:\n",
      "Student ID: 1, Name: John Doe, Grade: 10th\n",
      "Student ID: 2, Name: Jane Smith, Grade: 11th\n"
     ]
    }
   ],
   "source": [
    "'Write a class School and a class Student that contains a list of Student objects.'\n",
    "class Student:\n",
    "    def __init__(self, student_id, name, grade):\n",
    "        self.student_id = student_id\n",
    "        self.name = name\n",
    "        self.grade = grade\n",
    "\n",
    "    def __str__(self):\n",
    "        return f\"Student ID: {self.student_id}, Name: {self.name}, Grade: {self.grade}\"\n",
    "\n",
    "class School:\n",
    "    def __init__(self, name):\n",
    "        self.name = name\n",
    "        self.students = []  # List to store Student objects\n",
    "\n",
    "    def add_student(self, student):\n",
    "        self.students.append(student)\n",
    "\n",
    "    def display_students(self):\n",
    "        print(f\"Students in {self.name} School:\")\n",
    "        for student in self.students:\n",
    "            print(student)\n",
    "\n",
    "# Example usage:\n",
    "school = School(\"High School\")\n",
    "\n",
    "student1 = Student(student_id=1, name=\"John Doe\", grade=\"10th\")\n",
    "student2 = Student(student_id=2, name=\"Jane Smith\", grade=\"11th\")\n",
    "\n",
    "school.add_student(student1)\n",
    "school.add_student(student2)\n",
    "\n",
    "school.display_students()\n"
   ]
  },
  {
   "cell_type": "code",
   "execution_count": 6,
   "id": "209aee7a",
   "metadata": {},
   "outputs": [
    {
     "name": "stdout",
     "output_type": "stream",
     "text": [
      "Swetha :\n",
      "Kanagavali\n",
      "Shakthi\n",
      "Sowmiya :\n",
      "Kanagavali\n"
     ]
    }
   ],
   "source": [
    "'Create a class Student and a class Teacher. Students can enroll in multiple classes taught by different teachers.'\n",
    "\n",
    "class Student:\n",
    "    def __init__(self, name):\n",
    "        self.name = name\n",
    "        self.teachers = []\n",
    "\n",
    "class Teacher:\n",
    "    def __init__(self, name):\n",
    "        self.name = name\n",
    "\n",
    "s1 = Student(\"Swetha\")\n",
    "s2 = Student(\"Sowmiya\")\n",
    "t1 = Teacher(\"Kanagavali\")\n",
    "t2 = Teacher(\"Shakthi\")\n",
    "\n",
    "# Associate teachers with students\n",
    "s1.teachers = [t1, t2]\n",
    "s2.teachers = [t1]\n",
    "\n",
    "# Accessing and printing information\n",
    "print(s1.name, \":\")\n",
    "for teacher in s1.teachers:\n",
    "    print(teacher.name)\n",
    "\n",
    "print(s2.name, \":\")\n",
    "for teacher in s2.teachers:\n",
    "    print(teacher.name)\n",
    "\n"
   ]
  },
  {
   "cell_type": "code",
   "execution_count": 7,
   "id": "4243fcea",
   "metadata": {},
   "outputs": [
    {
     "name": "stdout",
     "output_type": "stream",
     "text": [
      "Department: HR\n",
      "Employees:\n",
      " - Alice\n",
      " - Bob\n"
     ]
    }
   ],
   "source": [
    "'Write a class Department and a class Employee. Employees can belong to multiple departments.'\n",
    "# one to many \n",
    "class Department:\n",
    "    def __init__(self, name):\n",
    "        self.name = name\n",
    "\n",
    "class Employee:\n",
    "    def __init__(self, name):\n",
    "        self.name = name\n",
    "\n",
    "department = Department(\"HR\")\n",
    "employee1 = Employee(\"Alice\")\n",
    "employee2 = Employee(\"Bob\")\n",
    "\n",
    "# One-to-Many association\n",
    "department.employees = [employee1, employee2]\n",
    "\n",
    "# Accessing and printing information\n",
    "print(f\"Department: {department.name}\")\n",
    "\n",
    "# Loop through employees and print their names\n",
    "print(\"Employees:\")\n",
    "for employee in department.employees:\n",
    "    print(f\" - {employee.name}\")\n"
   ]
  },
  {
   "cell_type": "code",
   "execution_count": 8,
   "id": "4803f5fa",
   "metadata": {},
   "outputs": [
    {
     "name": "stdout",
     "output_type": "stream",
     "text": [
      "John's departments: ['HR', 'Engineering']\n",
      "Alice's departments: ['Engineering']\n",
      "HR's employees: ['John']\n",
      "Engineering's employees: ['John', 'Alice']\n"
     ]
    }
   ],
   "source": [
    "class Department:\n",
    "    def __init__(self, name):\n",
    "        self.name = name\n",
    "        self.employees = []\n",
    "\n",
    "    def add_employee(self, employee):\n",
    "        self.employees.append(employee)\n",
    "\n",
    "class Employee:\n",
    "    def __init__(self, name):\n",
    "        self.name = name\n",
    "        self.departments = []\n",
    "\n",
    "    def join_department(self, department):\n",
    "        self.departments.append(department)\n",
    "        department.add_employee(self)\n",
    "\n",
    "# Example usage\n",
    "department1 = Department(\"HR\")\n",
    "department2 = Department(\"Engineering\")\n",
    "\n",
    "employee1 = Employee(\"John\")\n",
    "employee2 = Employee(\"Alice\")\n",
    "\n",
    "# Employees join departments\n",
    "employee1.join_department(department1)\n",
    "employee1.join_department(department2)\n",
    "\n",
    "employee2.join_department(department2)\n",
    "\n",
    "# Accessing and printing information\n",
    "print(f\"{employee1.name}'s departments: {[dept.name for dept in employee1.departments]}\")\n",
    "print(f\"{employee2.name}'s departments: {[dept.name for dept in employee2.departments]}\")\n",
    "\n",
    "print(f\"{department1.name}'s employees: {[emp.name for emp in department1.employees]}\")\n",
    "print(f\"{department2.name}'s employees: {[emp.name for emp in department2.employees]}\")\n"
   ]
  },
  {
   "cell_type": "code",
   "execution_count": 9,
   "id": "f54edc09",
   "metadata": {},
   "outputs": [
    {
     "name": "stdout",
     "output_type": "stream",
     "text": [
      "Order 1 contains the following products:\n",
      "Laptop - $1000\n",
      "Laptop - $1000\n",
      "Mouse - $20\n",
      "Keyboard - $50\n",
      "Total cost of Order 1: $2070\n"
     ]
    }
   ],
   "source": [
    "'Build a class Order and a class Product. Orders consist of multiple products.'\n",
    "class Product:\n",
    "    def __init__(self, name, price):\n",
    "        self.name = name\n",
    "        self.price = price\n",
    "\n",
    "class Order:\n",
    "    def __init__(self, order_number):\n",
    "        self.order_number = order_number\n",
    "        self.products = []\n",
    "\n",
    "    def add_product(self, product, quantity=1):\n",
    "        self.products.extend([product] * quantity)\n",
    "\n",
    "    def calculate_total(self):\n",
    "        return sum(product.price for product in self.products)\n",
    "\n",
    "# Example usage\n",
    "product1 = Product(\"Laptop\", 1000)\n",
    "product2 = Product(\"Mouse\", 20)\n",
    "product3 = Product(\"Keyboard\", 50)\n",
    "\n",
    "order1 = Order(1)\n",
    "order1.add_product(product1, quantity=2)\n",
    "order1.add_product(product2)\n",
    "order1.add_product(product3)\n",
    "\n",
    "print(f\"Order {order1.order_number} contains the following products:\")\n",
    "for product in order1.products:\n",
    "    print(f\"{product.name} - ${product.price}\")\n",
    "\n",
    "print(f\"Total cost of Order {order1.order_number}: ${order1.calculate_total()}\")\n"
   ]
  },
  {
   "cell_type": "code",
   "execution_count": 10,
   "id": "db6f6068",
   "metadata": {},
   "outputs": [
    {
     "name": "stdout",
     "output_type": "stream",
     "text": [
      "John Doe has been hired by ABC Corp.\n",
      "Alice Smith has been hired by ABC Corp.\n",
      "Employees at ABC Corp:\n",
      "Employee John Doe (ID: 1)\n",
      "Employee Alice Smith (ID: 2)\n"
     ]
    }
   ],
   "source": [
    "'Create a class Company and a class Employee. Employees work for a company.'\n",
    "class Employee:\n",
    "    def __init__(self, name, employee_id):\n",
    "        self.name = name\n",
    "        self.employee_id = employee_id\n",
    "\n",
    "    def display_info(self):\n",
    "        print(f\"Employee {self.name} (ID: {self.employee_id})\")\n",
    "\n",
    "class Company:\n",
    "    def __init__(self, name):\n",
    "        self.name = name\n",
    "        self.employees = []\n",
    "\n",
    "    def hire_employee(self, employee):\n",
    "        self.employees.append(employee)\n",
    "        print(f\"{employee.name} has been hired by {self.name}.\")\n",
    "\n",
    "    def display_employees(self):\n",
    "        print(f\"Employees at {self.name}:\")\n",
    "        for employee in self.employees:\n",
    "            employee.display_info()\n",
    "\n",
    "# Example usage\n",
    "employee1 = Employee(\"John Doe\", 1)\n",
    "employee2 = Employee(\"Alice Smith\", 2)\n",
    "\n",
    "company = Company(\"ABC Corp\")\n",
    "company.hire_employee(employee1)\n",
    "company.hire_employee(employee2)\n",
    "\n",
    "company.display_employees()\n"
   ]
  },
  {
   "cell_type": "code",
   "execution_count": 11,
   "id": "073344cf",
   "metadata": {},
   "outputs": [
    {
     "name": "stdout",
     "output_type": "stream",
     "text": [
      "Dr. Smith has been hired by City Hospital.\n",
      "Dr. Johnson has been hired by City Hospital.\n",
      "Doctors at City Hospital:\n",
      "Doctor Dr. Smith (ID: 101) with specializations: Cardiology, Internal Medicine\n",
      "Doctor Dr. Johnson (ID: 102) with specializations: Orthopedics\n"
     ]
    }
   ],
   "source": [
    "'Write a class Hospital and a class Doctor. Doctors work in hospitals and can have multiple specializations.'\n",
    "class Doctor:\n",
    "    def __init__(self, name, doctor_id):\n",
    "        self.name = name\n",
    "        self.doctor_id = doctor_id\n",
    "        self.specializations = []\n",
    "\n",
    "    def add_specialization(self, specialization):\n",
    "        self.specializations.append(specialization)\n",
    "\n",
    "    def display_info(self):\n",
    "        print(f\"Doctor {self.name} (ID: {self.doctor_id}) with specializations: {', '.join(self.specializations)}\")\n",
    "\n",
    "class Hospital:\n",
    "    def __init__(self, name):\n",
    "        self.name = name\n",
    "        self.doctors = []\n",
    "\n",
    "    def hire_doctor(self, doctor):\n",
    "        self.doctors.append(doctor)\n",
    "        print(f\"{doctor.name} has been hired by {self.name}.\")\n",
    "\n",
    "    def display_doctors(self):\n",
    "        print(f\"Doctors at {self.name}:\")\n",
    "        for doctor in self.doctors:\n",
    "            doctor.display_info()\n",
    "\n",
    "# Example usage\n",
    "doctor1 = Doctor(\"Dr. Smith\", 101)\n",
    "doctor1.add_specialization(\"Cardiology\")\n",
    "doctor1.add_specialization(\"Internal Medicine\")\n",
    "\n",
    "doctor2 = Doctor(\"Dr. Johnson\", 102)\n",
    "doctor2.add_specialization(\"Orthopedics\")\n",
    "\n",
    "hospital = Hospital(\"City Hospital\")\n",
    "hospital.hire_doctor(doctor1)\n",
    "hospital.hire_doctor(doctor2)\n",
    "\n",
    "hospital.display_doctors()\n"
   ]
  },
  {
   "cell_type": "code",
   "execution_count": 12,
   "id": "8b363710",
   "metadata": {},
   "outputs": [
    {
     "name": "stdout",
     "output_type": "stream",
     "text": [
      "Mathematics has been added to XYZ University.\n",
      "Physics has been added to XYZ University.\n",
      "Departments at XYZ University:\n",
      "Mathematics\n",
      "Physics\n"
     ]
    }
   ],
   "source": [
    "'Build a class University and a class Department. Departments are part of a university.'\n",
    "class Department:\n",
    "    def __init__(self, name):\n",
    "        self.name = name\n",
    "\n",
    "class University:\n",
    "    def __init__(self, name):\n",
    "        self.name = name\n",
    "        self.departments = []\n",
    "\n",
    "    def add_department(self, department):\n",
    "        self.departments.append(department)\n",
    "        print(f\"{department.name} has been added to {self.name}.\")\n",
    "\n",
    "    def display_departments(self):\n",
    "        print(f\"Departments at {self.name}:\")\n",
    "        for department in self.departments:\n",
    "            print(department.name)\n",
    "\n",
    "# Example usage\n",
    "math_department = Department(\"Mathematics\")\n",
    "physics_department = Department(\"Physics\")\n",
    "\n",
    "university = University(\"XYZ University\")\n",
    "university.add_department(math_department)\n",
    "university.add_department(physics_department)\n",
    "\n",
    "university.display_departments()\n"
   ]
  },
  {
   "cell_type": "code",
   "execution_count": 13,
   "id": "ca29832f",
   "metadata": {},
   "outputs": [
    {
     "name": "stdout",
     "output_type": "stream",
     "text": [
      "Wheels of the car:\n",
      "Front-Left wheel\n",
      "Front-Right wheel\n",
      "Rear-Left wheel\n",
      "Rear-Right wheel\n"
     ]
    }
   ],
   "source": [
    "'Create a class Car and a class Wheel. A car has four wheels.'\n",
    "class Wheel:\n",
    "    def __init__(self, position):\n",
    "        self.position = position\n",
    "\n",
    "class Car:\n",
    "    def __init__(self):\n",
    "        self.wheels = [Wheel(\"Front-Left\"), Wheel(\"Front-Right\"), Wheel(\"Rear-Left\"), Wheel(\"Rear-Right\")]\n",
    "\n",
    "    def display_wheels(self):\n",
    "        print(\"Wheels of the car:\")\n",
    "        for wheel in self.wheels:\n",
    "            print(f\"{wheel.position} wheel\")\n",
    "\n",
    "# Example usage\n",
    "my_car = Car()\n",
    "my_car.display_wheels()\n"
   ]
  },
  {
   "cell_type": "code",
   "execution_count": 14,
   "id": "b383c615",
   "metadata": {},
   "outputs": [
    {
     "name": "stdout",
     "output_type": "stream",
     "text": [
      "Living Room has been added to the house at 123 Main Street.\n",
      "Kitchen has been added to the house at 123 Main Street.\n",
      "Bedroom has been added to the house at 123 Main Street.\n",
      "Rooms in the house at 123 Main Street:\n",
      "Living Room - 30 square meters\n",
      "Kitchen - 20 square meters\n",
      "Bedroom - 25 square meters\n"
     ]
    }
   ],
   "source": [
    "'Write a class House and a class Room. A house contains multiple rooms.'\n",
    "class Room:\n",
    "    def __init__(self, name, area):\n",
    "        self.name = name\n",
    "        self.area = area\n",
    "\n",
    "class House:\n",
    "    def __init__(self, address):\n",
    "        self.address = address\n",
    "        self.rooms = []\n",
    "\n",
    "    def add_room(self, room):\n",
    "        self.rooms.append(room)\n",
    "        print(f\"{room.name} has been added to the house at {self.address}.\")\n",
    "\n",
    "    def display_rooms(self):\n",
    "        print(f\"Rooms in the house at {self.address}:\")\n",
    "        for room in self.rooms:\n",
    "            print(f\"{room.name} - {room.area} square meters\")\n",
    "\n",
    "# Example usage\n",
    "living_room = Room(\"Living Room\", 30)\n",
    "kitchen = Room(\"Kitchen\", 20)\n",
    "bedroom = Room(\"Bedroom\", 25)\n",
    "\n",
    "my_house = House(\"123 Main Street\")\n",
    "my_house.add_room(living_room)\n",
    "my_house.add_room(kitchen)\n",
    "my_house.add_room(bedroom)\n",
    "\n",
    "my_house.display_rooms()\n"
   ]
  },
  {
   "cell_type": "code",
   "execution_count": 15,
   "id": "5350fb71",
   "metadata": {},
   "outputs": [
    {
     "name": "stdout",
     "output_type": "stream",
     "text": [
      "John has joined Blue Strikers.\n",
      "Alice has joined Blue Strikers.\n",
      "Bob has joined Blue Strikers.\n",
      "Players in Blue Strikers:\n",
      "John - Forward\n",
      "Alice - Midfielder\n",
      "Bob - Defender\n"
     ]
    }
   ],
   "source": [
    "'Build a class Team and a class Player. A team consists of multiple players.'\n",
    "class Player:\n",
    "    def __init__(self, name, position):\n",
    "        self.name = name\n",
    "        self.position = position\n",
    "\n",
    "class Team:\n",
    "    def __init__(self, name):\n",
    "        self.name = name\n",
    "        self.players = []\n",
    "\n",
    "    def add_player(self, player):\n",
    "        self.players.append(player)\n",
    "        print(f\"{player.name} has joined {self.name}.\")\n",
    "\n",
    "    def display_players(self):\n",
    "        print(f\"Players in {self.name}:\")\n",
    "        for player in self.players:\n",
    "            print(f\"{player.name} - {player.position}\")\n",
    "\n",
    "# Example usage\n",
    "player1 = Player(\"John\", \"Forward\")\n",
    "player2 = Player(\"Alice\", \"Midfielder\")\n",
    "player3 = Player(\"Bob\", \"Defender\")\n",
    "\n",
    "soccer_team = Team(\"Blue Strikers\")\n",
    "soccer_team.add_player(player1)\n",
    "soccer_team.add_player(player2)\n",
    "soccer_team.add_player(player3)\n",
    "\n",
    "soccer_team.display_players()\n"
   ]
  },
  {
   "cell_type": "code",
   "execution_count": 16,
   "id": "34c59dfd",
   "metadata": {},
   "outputs": [
    {
     "name": "stdout",
     "output_type": "stream",
     "text": [
      "John has enrolled in the course: Mathematics\n",
      "John has enrolled in the course: Physics\n",
      "Alice has enrolled in the course: History\n",
      "Courses enrolled by John:\n",
      "Mathematics\n",
      "Physics\n",
      "Courses enrolled by Alice:\n",
      "History\n"
     ]
    }
   ],
   "source": [
    "'Create a class Course and a class Student. Students enroll in multiple courses.'\n",
    "class Course:\n",
    "    def __init__(self, name):\n",
    "        self.name = name\n",
    "\n",
    "class Student:\n",
    "    def __init__(self, name):\n",
    "        self.name = name\n",
    "        self.enrolled_courses = []\n",
    "\n",
    "    def enroll_in_course(self, course):\n",
    "        self.enrolled_courses.append(course)\n",
    "        print(f\"{self.name} has enrolled in the course: {course.name}\")\n",
    "\n",
    "    def display_enrolled_courses(self):\n",
    "        print(f\"Courses enrolled by {self.name}:\")\n",
    "        for course in self.enrolled_courses:\n",
    "            print(course.name)\n",
    "\n",
    "# Example usage\n",
    "math_course = Course(\"Mathematics\")\n",
    "physics_course = Course(\"Physics\")\n",
    "history_course = Course(\"History\")\n",
    "\n",
    "student1 = Student(\"John\")\n",
    "student2 = Student(\"Alice\")\n",
    "\n",
    "student1.enroll_in_course(math_course)\n",
    "student1.enroll_in_course(physics_course)\n",
    "student2.enroll_in_course(history_course)\n",
    "\n",
    "student1.display_enrolled_courses()\n",
    "student2.display_enrolled_courses()\n"
   ]
  },
  {
   "cell_type": "code",
   "execution_count": 17,
   "id": "b97a86d7",
   "metadata": {},
   "outputs": [
    {
     "name": "stdout",
     "output_type": "stream",
     "text": [
      "Error sending email: [Errno 11001] getaddrinfo failed\n"
     ]
    }
   ],
   "source": [
    "'Write a class EmailService that sends emails. Ensure it follows the Single Responsibility Principle.'\n",
    "import smtplib\n",
    "from email.mime.text import MIMEText\n",
    "from email.mime.multipart import MIMEMultipart\n",
    "\n",
    "class EmailService:\n",
    "    def __init__(self, smtp_server, smtp_port, username, password):\n",
    "        self.smtp_server = smtp_server\n",
    "        self.smtp_port = smtp_port\n",
    "        self.username = username\n",
    "        self.password = password\n",
    "\n",
    "    def send_email(self, to_address, subject, body):\n",
    "        message = MIMEMultipart()\n",
    "        message['From'] = self.username\n",
    "        message['To'] = to_address\n",
    "        message['Subject'] = subject\n",
    "\n",
    "        body_content = MIMEText(body, 'plain')\n",
    "        message.attach(body_content)\n",
    "\n",
    "        try:\n",
    "            with smtplib.SMTP(self.smtp_server, self.smtp_port) as server:\n",
    "                server.starttls()\n",
    "                server.login(self.username, self.password)\n",
    "                server.sendmail(self.username, to_address, message.as_string())\n",
    "            print(\"Email sent successfully.\")\n",
    "        except Exception as e:\n",
    "            print(f\"Error sending email: {e}\")\n",
    "\n",
    "# Example usage:\n",
    "email_service = EmailService(\n",
    "    smtp_server='smtp.example.com',\n",
    "    smtp_port=587,\n",
    "    username='your_email@example.com',\n",
    "    password='your_email_password'\n",
    ")\n",
    "\n",
    "to_address = 'recipient@example.com'\n",
    "subject = 'Test Email'\n",
    "body = 'This is a test email from the EmailService class.'\n",
    "\n",
    "email_service.send_email(to_address, subject, body)\n"
   ]
  },
  {
   "cell_type": "code",
   "execution_count": 19,
   "id": "861604c2",
   "metadata": {},
   "outputs": [
    {
     "name": "stdout",
     "output_type": "stream",
     "text": [
      "John Doe's bonus: $7500.0\n",
      "Jane Smith's bonus: $64000.0\n"
     ]
    }
   ],
   "source": [
    "'''Create a class Employee with attributes name, salary, and years_of_service. \n",
    "Apply the Open/Closed Principle to enable future extensions.'''\n",
    "\n",
    "from abc import ABC, abstractmethod\n",
    "\n",
    "class Employee(ABC):\n",
    "    def __init__(self, name, salary, years_of_service):\n",
    "        self.name = name\n",
    "        self.salary = salary\n",
    "        self.years_of_service = years_of_service\n",
    "\n",
    "    @abstractmethod\n",
    "    def calculate_bonus(self):\n",
    "        pass\n",
    "\n",
    "class RegularEmployee(Employee):\n",
    "    def __init__(self, name, salary, years_of_service):\n",
    "        super().__init__(name, salary, years_of_service)\n",
    "\n",
    "    def calculate_bonus(self):\n",
    "        # Regular employees get a bonus based on their salary and years of service\n",
    "        return self.salary * 0.05 * min(self.years_of_service, 5)\n",
    "\n",
    "class Manager(Employee):\n",
    "    def __init__(self, name, salary, years_of_service):\n",
    "        super().__init__(name, salary, years_of_service)\n",
    "\n",
    "    def calculate_bonus(self):\n",
    "        # Managers get a bonus based on their salary and years of service\n",
    "        return self.salary * 0.1 * min(self.years_of_service, 10)\n",
    "\n",
    "# Example usage:\n",
    "regular_employee = RegularEmployee(name=\"John Doe\", salary=50000, years_of_service=3)\n",
    "manager = Manager(name=\"Jane Smith\", salary=80000, years_of_service=8)\n",
    "\n",
    "print(f\"{regular_employee.name}'s bonus: ${regular_employee.calculate_bonus()}\")\n",
    "print(f\"{manager.name}'s bonus: ${manager.calculate_bonus()}\")\n"
   ]
  },
  {
   "cell_type": "code",
   "execution_count": 20,
   "id": "5d6ecf04",
   "metadata": {},
   "outputs": [
    {
     "name": "stdout",
     "output_type": "stream",
     "text": [
      "Circle area: 78.5\n",
      "Rectangle area: 24\n"
     ]
    }
   ],
   "source": [
    "'''Build a class hierarchy: Shape -> Circle and Rectangle. \n",
    "Use the Liskov Substitution Principle to ensure substitutability.'''\n",
    "from abc import ABC, abstractmethod\n",
    "\n",
    "class Shape(ABC):\n",
    "    @abstractmethod\n",
    "    def area(self):\n",
    "        pass\n",
    "\n",
    "class Circle(Shape):\n",
    "    def __init__(self, radius):\n",
    "        self.radius = radius\n",
    "\n",
    "    def area(self):\n",
    "        return 3.14 * self.radius * self.radius\n",
    "\n",
    "class Rectangle(Shape):\n",
    "    def __init__(self, width, height):\n",
    "        self.width = width\n",
    "        self.height = height\n",
    "\n",
    "    def area(self):\n",
    "        return self.width * self.height\n",
    "\n",
    "# Function using the Liskov Substitution Principle\n",
    "def calculate_area(shape):\n",
    "    return shape.area()\n",
    "\n",
    "# Example usage:\n",
    "circle = Circle(radius=5)\n",
    "rectangle = Rectangle(width=4, height=6)\n",
    "\n",
    "# Both Circle and Rectangle are substitutable for Shape\n",
    "print(f\"Circle area: {calculate_area(circle)}\")\n",
    "print(f\"Rectangle area: {calculate_area(rectangle)}\")\n",
    "\n"
   ]
  },
  {
   "cell_type": "code",
   "execution_count": 21,
   "id": "3da6ad26",
   "metadata": {},
   "outputs": [
    {
     "name": "stdout",
     "output_type": "stream",
     "text": [
      "Order details:\n",
      "2 x Product A - $10\n",
      "1 x Product B - $15\n",
      "Total Price: $35\n",
      "Order processed successfully.\n"
     ]
    }
   ],
   "source": [
    "'Write a class Order with attributes products and total_price. Apply the Interface Segregation Principle if necessary.'\n",
    "from abc import ABC, abstractmethod\n",
    "\n",
    "# Interface for products-related methods\n",
    "class ProductsInterface(ABC):\n",
    "    @abstractmethod\n",
    "    def add_product(self, product_name, quantity, price):\n",
    "        pass\n",
    "\n",
    "    @abstractmethod\n",
    "    def calculate_total_price(self):\n",
    "        pass\n",
    "\n",
    "# Interface for order processing methods\n",
    "class OrderProcessingInterface(ABC):\n",
    "    @abstractmethod\n",
    "    def process_order(self):\n",
    "        pass\n",
    "\n",
    "# Interface for order printing methods\n",
    "class OrderPrintingInterface(ABC):\n",
    "    @abstractmethod\n",
    "    def print_order(self):\n",
    "        pass\n",
    "\n",
    "# Concrete implementation of the Order class implementing the necessary interfaces\n",
    "class Order(ProductsInterface, OrderProcessingInterface, OrderPrintingInterface):\n",
    "    def __init__(self):\n",
    "        self.products = []\n",
    "        self.total_price = 0\n",
    "\n",
    "    def add_product(self, product_name, quantity, price):\n",
    "        self.products.append({\"name\": product_name, \"quantity\": quantity, \"price\": price})\n",
    "\n",
    "    def calculate_total_price(self):\n",
    "        self.total_price = sum(product[\"quantity\"] * product[\"price\"] for product in self.products)\n",
    "\n",
    "    def process_order(self):\n",
    "        # Additional order processing logic\n",
    "        print(\"Order processed successfully.\")\n",
    "\n",
    "    def print_order(self):\n",
    "        # Additional order printing logic\n",
    "        print(\"Order details:\")\n",
    "        for product in self.products:\n",
    "            print(f\"{product['quantity']} x {product['name']} - ${product['price']}\")\n",
    "        print(f\"Total Price: ${self.total_price}\")\n",
    "\n",
    "# Example usage:\n",
    "order = Order()\n",
    "order.add_product(\"Product A\", quantity=2, price=10)\n",
    "order.add_product(\"Product B\", quantity=1, price=15)\n",
    "order.calculate_total_price()\n",
    "order.print_order()\n",
    "order.process_order()\n"
   ]
  },
  {
   "cell_type": "code",
   "execution_count": 22,
   "id": "ec5ce9b5",
   "metadata": {},
   "outputs": [
    {
     "name": "stdout",
     "output_type": "stream",
     "text": [
      "[Console] This message will be logged to the console.\n"
     ]
    }
   ],
   "source": [
    "'''Create a class Logger to handle logging. Apply the Dependency Inversion Principle to\n",
    "allow flexibility in the choice of logger.'''\n",
    "from abc import ABC, abstractmethod\n",
    "\n",
    "# Logger interface\n",
    "class LoggerInterface(ABC):\n",
    "    @abstractmethod\n",
    "    def log(self, message):\n",
    "        pass\n",
    "\n",
    "# Concrete implementation of the Logger interface\n",
    "class ConsoleLogger(LoggerInterface):\n",
    "    def log(self, message):\n",
    "        print(f\"[Console] {message}\")\n",
    "\n",
    "# Another concrete implementation of the Logger interface\n",
    "class FileLogger(LoggerInterface):\n",
    "    def __init__(self, filename):\n",
    "        self.filename = filename\n",
    "\n",
    "    def log(self, message):\n",
    "        with open(self.filename, 'a') as file:\n",
    "            file.write(f\"[File] {message}\\n\")\n",
    "\n",
    "# Logger class that depends on the LoggerInterface\n",
    "class Logger:\n",
    "    def __init__(self, logger: LoggerInterface):\n",
    "        self.logger = logger\n",
    "\n",
    "    def log_message(self, message):\n",
    "        self.logger.log(message)\n",
    "\n",
    "# Example usage:\n",
    "console_logger = ConsoleLogger()\n",
    "file_logger = FileLogger(filename='log.txt')\n",
    "\n",
    "logger_using_console = Logger(logger=console_logger)\n",
    "logger_using_file = Logger(logger=file_logger)\n",
    "\n",
    "logger_using_console.log_message(\"This message will be logged to the console.\")\n",
    "logger_using_file.log_message(\"This message will be logged to the file.\")\n"
   ]
  },
  {
   "cell_type": "code",
   "execution_count": null,
   "id": "58bb9c9f",
   "metadata": {},
   "outputs": [],
   "source": []
  }
 ],
 "metadata": {
  "kernelspec": {
   "display_name": "Python 3 (ipykernel)",
   "language": "python",
   "name": "python3"
  },
  "language_info": {
   "codemirror_mode": {
    "name": "ipython",
    "version": 3
   },
   "file_extension": ".py",
   "mimetype": "text/x-python",
   "name": "python",
   "nbconvert_exporter": "python",
   "pygments_lexer": "ipython3",
   "version": "3.11.5"
  }
 },
 "nbformat": 4,
 "nbformat_minor": 5
}
